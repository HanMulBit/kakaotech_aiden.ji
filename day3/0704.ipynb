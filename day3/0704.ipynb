{
 "cells": [
  {
   "cell_type": "code",
   "execution_count": 1,
   "id": "3c4e0d49",
   "metadata": {},
   "outputs": [],
   "source": [
    "# 1 이메일 입력받기\n",
    "\n",
    "import re\n",
    "\n",
    "def validate_age(age):\n",
    "    return age.isdigit() and int(age) > 0\n",
    "def validate_email(email):\n",
    "    email_regex = r'^[a-zA-Z0-9._%+-]+@[a-zA-Z0-9.-]+\\.[a-zA-Z]{2,}$'\n",
    "    return re.match(email_regex, email) is not None"
   ]
  },
  {
   "cell_type": "code",
   "execution_count": 4,
   "id": "1259bb6e",
   "metadata": {},
   "outputs": [
    {
     "name": "stdout",
     "output_type": "stream",
     "text": [
      "이름을 입력하세요: 지윤수\n",
      "나이를 입력하세요: -17\n",
      "나이는 양의 정수여야 합니다.\n",
      "나이를 입력하세요: 17\n",
      "이메일을 입력하세요: ㅇ\n",
      "올바른 이메일 형식이 아닙니다.\n",
      "이메일을 입력하세요: dubuji12@gmail.com\n",
      "사용자 정보: {'name': '지윤수', 'age': 17, 'email': 'dubuji12@gmail.com'}\n"
     ]
    }
   ],
   "source": [
    "def get_user_input():\n",
    "    \n",
    "    user_data = {}\n",
    "    \n",
    "    user_data['name'] = input(\"이름을 입력하세요: \")\n",
    "    \n",
    "    while True:\n",
    "        try:\n",
    "            age = input(\"나이를 입력하세요: \")\n",
    "            if not validate_age(age):\n",
    "                raise ValueError(\"나이는 양의 정수여야 합니다.\")\n",
    "            user_data['age'] = int(age)\n",
    "            break\n",
    "        except ValueError as e:\n",
    "            print(e)\n",
    "    \n",
    "    while True:\n",
    "        try:\n",
    "            email = input(\"이메일을 입력하세요: \")\n",
    "            if not validate_email(email):\n",
    "                raise ValueError(\"올바른 이메일 형식이 아닙니다.\")\n",
    "            user_data['email'] = email\n",
    "            break\n",
    "        except ValueError as e:\n",
    "            print(e)\n",
    "    \n",
    "    return user_data\n",
    "\n",
    "if __name__ == \"__main__\":\n",
    "    try:\n",
    "        user_info = get_user_input()\n",
    "        print(\"사용자 정보:\", user_info)\n",
    "    except Exception as e:\n",
    "        print(\"오류가 발생했습니다:\", e)"
   ]
  },
  {
   "cell_type": "code",
   "execution_count": 5,
   "id": "1306653d",
   "metadata": {},
   "outputs": [],
   "source": [
    "# 2 계산기\n",
    "\n",
    "class Calculator:\n",
    "    def __init__(self):\n",
    "        pass\n",
    "    \n",
    "    def add(self,a,b):\n",
    "        return a + b\n",
    "        \n",
    "    def sub(self,a,b):\n",
    "        return a - b\n",
    "        \n",
    "    def multi(self,a,b):\n",
    "        return a * b\n",
    "        \n",
    "    def div(self):\n",
    "        return a / b"
   ]
  },
  {
   "cell_type": "code",
   "execution_count": 9,
   "id": "24c4f075",
   "metadata": {},
   "outputs": [
    {
     "name": "stdout",
     "output_type": "stream",
     "text": [
      "첫 번째 숫자를 입력하세요: 10\n",
      "두 번째 숫자를 입력하세요: #@\n",
      "입력 오류: could not convert string to float: '#@'\n"
     ]
    }
   ],
   "source": [
    "calc = Calculator()\n",
    "\n",
    "try:\n",
    "    a = float(input(\"첫 번째 숫자를 입력하세요: \"))\n",
    "    b = float(input(\"두 번째 숫자를 입력하세요: \"))\n",
    "    operation = input(\"원하는 연산을 선택하세요 (+, -, *, /): \")\n",
    "\n",
    "    # 연산 수행 및 결과 출력\n",
    "    if operation == '+':\n",
    "        result = calc.add(a, b)\n",
    "    elif operation == '-':\n",
    "        result = calc.sub(a, b)\n",
    "    elif operation == '*':\n",
    "        result = calc.multi(a, b)\n",
    "    elif operation == '/':\n",
    "        result = calc.div(a, b)\n",
    "    else:\n",
    "        raise ValueError(\"올바른 연산자를 입력하세요.\")\n",
    "    \n",
    "    print(f\"결과: {result}\")\n",
    "\n",
    "except ValueError as error:\n",
    "    print(f\"입력 오류: {error}\")"
   ]
  },
  {
   "cell_type": "code",
   "execution_count": 17,
   "id": "f44fb394",
   "metadata": {},
   "outputs": [
    {
     "name": "stdout",
     "output_type": "stream",
     "text": [
      "[0, 1, 1, 2, 3, 5, 8, 13, 21, 34]\n"
     ]
    }
   ],
   "source": [
    "# 3 피보나치 수열 제너레이터 함수 사용 / 첫 10개 함수 출력\n",
    "\n",
    "def fibonacci():\n",
    "    a, b = 0, 1\n",
    "    fib_list = []\n",
    "    for i in range(0,10):\n",
    "        fib_list.append(a)\n",
    "        a, b = b, a + b\n",
    "    return fib_list\n",
    "\n",
    "fib = fibonacci()\n",
    "print(fib)\n",
    "\n",
    "## yield 키워드를 사용하여 제너레이터로 구동하여야함 ! "
   ]
  },
  {
   "cell_type": "code",
   "execution_count": 26,
   "id": "7fc90f19",
   "metadata": {},
   "outputs": [
    {
     "name": "stdout",
     "output_type": "stream",
     "text": [
      "데이터를 입력하세요: 1\n",
      "1\n"
     ]
    }
   ],
   "source": [
    "import json\n",
    "\n",
    "data = {}\n",
    "data['data'] = input('데이터를 입력하세요: ')\n",
    "\n",
    "filename = 'data.json'\n",
    "\n",
    "with open(filename, 'w', encoding='utf-8') as f:\n",
    "    json.dump(data, f, ensure_ascii=False, indent=4)\n",
    "\n",
    "with open(filename, 'r', encoding='utf-8') as f:\n",
    "    loaded_data = json.load(f)\n",
    "    print(loaded_data['data'])  "
   ]
  },
  {
   "cell_type": "code",
   "execution_count": 29,
   "id": "f8a7964c",
   "metadata": {},
   "outputs": [],
   "source": [
    "import sqlite3\n",
    "\n",
    "# 데이터베이스 연결\n",
    "conn = sqlite3.connect('users.db')\n",
    "cursor = conn.cursor()\n",
    "\n",
    "# users 테이블 생성 (컬럼과 데이터 타입 지정)\n",
    "cursor.execute('''\n",
    "    CREATE TABLE IF NOT EXISTS users (\n",
    "        id INTEGER PRIMARY KEY AUTOINCREMENT,\n",
    "        name TEXT NOT NULL,\n",
    "        age INTEGER NOT NULL,\n",
    "        email TEXT NOT NULL\n",
    "    )\n",
    "''')\n",
    "conn.commit()\n",
    "\n",
    "# 사용자 정보 삽입 함수\n",
    "def insert_user(name, age, email):\n",
    "    cursor.execute('''\n",
    "        INSERT INTO users (name, age, email)\n",
    "        VALUES (?, ?, ?)\n",
    "    ''', (name, age, email))\n",
    "    conn.commit()\n",
    "\n",
    "# 사용자 정보 조회 함수\n",
    "def fetch_users():\n",
    "    cursor.execute('SELECT * FROM users')\n",
    "    return cursor.fetchall()\n",
    "\n",
    "\n",
    "# 데이터베이스 연결 종료\n",
    "conn.close()"
   ]
  },
  {
   "cell_type": "code",
   "execution_count": 25,
   "id": "1875a826",
   "metadata": {},
   "outputs": [
    {
     "name": "stdout",
     "output_type": "stream",
     "text": [
      "나눌 숫자를 입력하세요: 4.6\n",
      "4.6을(를) 10으로 나눈 결과는 0.45999999999999996입니다.\n"
     ]
    }
   ],
   "source": [
    "# 예외처리\n",
    "try:\n",
    "    number = float(input(\"나눌 숫자를 입력: \"))\n",
    "    result = number / 10\n",
    "    print(f\"{number}를 10으로 나눈 결과는 {result}입니다.\")  \n",
    "except ValueError:\n",
    "    print(\"숫자를 입력해주세요.\")\n",
    "except ZeroDivisionError:\n",
    "    print(\"다른 숫자를 입력해주세요.\")"
   ]
  }
 ],
 "metadata": {
  "kernelspec": {
   "display_name": "Python 3 (ipykernel)",
   "language": "python",
   "name": "python3"
  },
  "language_info": {
   "codemirror_mode": {
    "name": "ipython",
    "version": 3
   },
   "file_extension": ".py",
   "mimetype": "text/x-python",
   "name": "python",
   "nbconvert_exporter": "python",
   "pygments_lexer": "ipython3",
   "version": "3.9.13"
  }
 },
 "nbformat": 4,
 "nbformat_minor": 5
}
