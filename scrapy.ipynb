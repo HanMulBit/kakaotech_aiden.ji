{
 "cells": [
  {
   "cell_type": "code",
   "execution_count": 1,
   "id": "a4dfa174",
   "metadata": {},
   "outputs": [
    {
     "name": "stdout",
     "output_type": "stream",
     "text": [
      "Requirement already satisfied: scrapy in c:\\users\\ys\\anaconda3\\lib\\site-packages (2.6.2)\n",
      "Requirement already satisfied: PyDispatcher>=2.0.5 in c:\\users\\ys\\anaconda3\\lib\\site-packages (from scrapy) (2.0.5)\n",
      "Requirement already satisfied: cryptography>=2.0 in c:\\users\\ys\\anaconda3\\lib\\site-packages (from scrapy) (37.0.1)\n",
      "Requirement already satisfied: itemadapter>=0.1.0 in c:\\users\\ys\\anaconda3\\lib\\site-packages (from scrapy) (0.3.0)\n",
      "Requirement already satisfied: cssselect>=0.9.1 in c:\\users\\ys\\anaconda3\\lib\\site-packages (from scrapy) (1.1.0)\n",
      "Requirement already satisfied: w3lib>=1.17.0 in c:\\users\\ys\\anaconda3\\lib\\site-packages (from scrapy) (1.21.0)\n",
      "Requirement already satisfied: pyOpenSSL>=16.2.0 in c:\\users\\ys\\anaconda3\\lib\\site-packages (from scrapy) (22.0.0)\n",
      "Requirement already satisfied: zope.interface>=4.1.3 in c:\\users\\ys\\anaconda3\\lib\\site-packages (from scrapy) (5.4.0)\n",
      "Requirement already satisfied: lxml>=3.5.0 in c:\\users\\ys\\anaconda3\\lib\\site-packages (from scrapy) (4.9.1)\n",
      "Requirement already satisfied: itemloaders>=1.0.1 in c:\\users\\ys\\anaconda3\\lib\\site-packages (from scrapy) (1.0.4)\n",
      "Requirement already satisfied: parsel>=1.5.0 in c:\\users\\ys\\anaconda3\\lib\\site-packages (from scrapy) (1.6.0)\n",
      "Requirement already satisfied: tldextract in c:\\users\\ys\\anaconda3\\lib\\site-packages (from scrapy) (3.2.0)\n",
      "Requirement already satisfied: Twisted>=17.9.0 in c:\\users\\ys\\anaconda3\\lib\\site-packages (from scrapy) (22.2.0)\n",
      "Requirement already satisfied: service-identity>=16.0.0 in c:\\users\\ys\\anaconda3\\lib\\site-packages (from scrapy) (18.1.0)\n",
      "Requirement already satisfied: queuelib>=1.4.2 in c:\\users\\ys\\anaconda3\\lib\\site-packages (from scrapy) (1.5.0)\n",
      "Requirement already satisfied: setuptools in c:\\users\\ys\\anaconda3\\lib\\site-packages (from scrapy) (63.4.1)\n",
      "Requirement already satisfied: protego>=0.1.15 in c:\\users\\ys\\anaconda3\\lib\\site-packages (from scrapy) (0.1.16)\n",
      "Requirement already satisfied: cffi>=1.12 in c:\\users\\ys\\anaconda3\\lib\\site-packages (from cryptography>=2.0->scrapy) (1.15.1)\n",
      "Requirement already satisfied: jmespath>=0.9.5 in c:\\users\\ys\\anaconda3\\lib\\site-packages (from itemloaders>=1.0.1->scrapy) (0.10.0)\n",
      "Requirement already satisfied: six>=1.6.0 in c:\\users\\ys\\anaconda3\\lib\\site-packages (from parsel>=1.5.0->scrapy) (1.16.0)\n",
      "Requirement already satisfied: attrs>=16.0.0 in c:\\users\\ys\\anaconda3\\lib\\site-packages (from service-identity>=16.0.0->scrapy) (21.4.0)\n",
      "Requirement already satisfied: pyasn1-modules in c:\\users\\ys\\anaconda3\\lib\\site-packages (from service-identity>=16.0.0->scrapy) (0.2.8)\n",
      "Requirement already satisfied: pyasn1 in c:\\users\\ys\\anaconda3\\lib\\site-packages (from service-identity>=16.0.0->scrapy) (0.4.8)\n",
      "Requirement already satisfied: hyperlink>=17.1.1 in c:\\users\\ys\\anaconda3\\lib\\site-packages (from Twisted>=17.9.0->scrapy) (21.0.0)\n",
      "Requirement already satisfied: constantly>=15.1 in c:\\users\\ys\\anaconda3\\lib\\site-packages (from Twisted>=17.9.0->scrapy) (15.1.0)\n",
      "Requirement already satisfied: twisted-iocpsupport<2,>=1.0.2 in c:\\users\\ys\\anaconda3\\lib\\site-packages (from Twisted>=17.9.0->scrapy) (1.0.2)\n",
      "Requirement already satisfied: incremental>=21.3.0 in c:\\users\\ys\\anaconda3\\lib\\site-packages (from Twisted>=17.9.0->scrapy) (21.3.0)\n",
      "Requirement already satisfied: typing-extensions>=3.6.5 in c:\\users\\ys\\anaconda3\\lib\\site-packages (from Twisted>=17.9.0->scrapy) (4.3.0)\n",
      "Requirement already satisfied: Automat>=0.8.0 in c:\\users\\ys\\anaconda3\\lib\\site-packages (from Twisted>=17.9.0->scrapy) (20.2.0)\n",
      "Requirement already satisfied: requests>=2.1.0 in c:\\users\\ys\\anaconda3\\lib\\site-packages (from tldextract->scrapy) (2.28.1)\n",
      "Requirement already satisfied: requests-file>=1.4 in c:\\users\\ys\\anaconda3\\lib\\site-packages (from tldextract->scrapy) (1.5.1)\n",
      "Requirement already satisfied: idna in c:\\users\\ys\\appdata\\roaming\\python\\python39\\site-packages (from tldextract->scrapy) (2.10)\n",
      "Requirement already satisfied: filelock>=3.0.8 in c:\\users\\ys\\anaconda3\\lib\\site-packages (from tldextract->scrapy) (3.6.0)\n",
      "Requirement already satisfied: pycparser in c:\\users\\ys\\anaconda3\\lib\\site-packages (from cffi>=1.12->cryptography>=2.0->scrapy) (2.21)\n",
      "Requirement already satisfied: urllib3<1.27,>=1.21.1 in c:\\users\\ys\\anaconda3\\lib\\site-packages (from requests>=2.1.0->tldextract->scrapy) (1.26.11)\n",
      "Requirement already satisfied: certifi>=2017.4.17 in c:\\users\\ys\\appdata\\roaming\\python\\python39\\site-packages (from requests>=2.1.0->tldextract->scrapy) (2023.7.22)\n",
      "Requirement already satisfied: charset-normalizer<3,>=2 in c:\\users\\ys\\anaconda3\\lib\\site-packages (from requests>=2.1.0->tldextract->scrapy) (2.0.4)\n"
     ]
    },
    {
     "name": "stderr",
     "output_type": "stream",
     "text": [
      "WARNING: Ignoring invalid distribution -illow (c:\\users\\ys\\anaconda3\\lib\\site-packages)\n",
      "WARNING: Ignoring invalid distribution -illow (c:\\users\\ys\\anaconda3\\lib\\site-packages)\n",
      "WARNING: Ignoring invalid distribution -illow (c:\\users\\ys\\anaconda3\\lib\\site-packages)\n",
      "WARNING: Ignoring invalid distribution -illow (c:\\users\\ys\\anaconda3\\lib\\site-packages)\n",
      "WARNING: Ignoring invalid distribution -illow (c:\\users\\ys\\anaconda3\\lib\\site-packages)\n",
      "WARNING: Ignoring invalid distribution -illow (c:\\users\\ys\\anaconda3\\lib\\site-packages)\n"
     ]
    }
   ],
   "source": [
    "# !pip install scrapy"
   ]
  },
  {
   "cell_type": "code",
   "execution_count": 5,
   "id": "472e46e8",
   "metadata": {},
   "outputs": [
    {
     "name": "stdout",
     "output_type": "stream",
     "text": [
      "New Scrapy project 'project_name', using template directory 'C:\\Users\\Ys\\anaconda3\\lib\\site-packages\\scrapy\\templates\\project', created in:\n",
      "    C:\\Users\\Ys\\workspace\\python_kakao\\project_name\n",
      "\n",
      "You can start your first spider with:\n",
      "    cd project_name\n",
      "    scrapy genspider example example.com\n"
     ]
    }
   ],
   "source": [
    "!scrapy startproject project_name"
   ]
  },
  {
   "cell_type": "code",
   "execution_count": 6,
   "id": "57da3e99",
   "metadata": {},
   "outputs": [
    {
     "name": "stdout",
     "output_type": "stream",
     "text": [
      "C:\\Users\\Ys\\workspace\\python_kakao\\project_name\n"
     ]
    }
   ],
   "source": [
    "%cd project_name"
   ]
  },
  {
   "cell_type": "code",
   "execution_count": 7,
   "id": "a4b4e7e5",
   "metadata": {},
   "outputs": [
    {
     "name": "stdout",
     "output_type": "stream",
     "text": [
      "Created spider 'spider_name' using template 'basic' in module:\n",
      "  project_name.spiders.spider_name\n"
     ]
    }
   ],
   "source": [
    "!scrapy genspider spider_name example.com"
   ]
  },
  {
   "cell_type": "code",
   "execution_count": 8,
   "id": "6e9541ef",
   "metadata": {},
   "outputs": [],
   "source": [
    "import scrapy\n",
    "\n",
    "class ExampleSpider(scrapy.Spider):\n",
    "    name = 'example'\n",
    "    allowed_domains = ['https://ko.wikipedia.org/wiki/%EC%9C%84%ED%82%A4%EB%B0%B1%EA%B3%BC:%EB%8C%80%EB%AC%B8']\n",
    "    start_urls = ['https://ko.wikipedia.org/wiki/%EC%9C%84%ED%82%A4%EB%B0%B1%EA%B3%BC:%EB%8C%80%EB%AC%B8']\n",
    "\n",
    "    def parse(self, response):\n",
    "        for title in response.css('h2::text'):\n",
    "            yield {'title': title.get()}\n",
    "        \n",
    "        for link in response.css('a::attr(href)'):\n",
    "            yield {'link': link.get()}"
   ]
  },
  {
   "cell_type": "code",
   "execution_count": 9,
   "id": "7a51d4c9",
   "metadata": {},
   "outputs": [
    {
     "name": "stderr",
     "output_type": "stream",
     "text": [
      "2024-07-02 10:47:24 [scrapy.utils.log] INFO: Scrapy 2.6.2 started (bot: project_name)\n",
      "2024-07-02 10:47:24 [scrapy.utils.log] INFO: Versions: lxml 4.9.1.0, libxml2 2.9.14, cssselect 1.1.0, parsel 1.6.0, w3lib 1.21.0, Twisted 22.2.0, Python 3.9.13 (main, Aug 25 2022, 23:51:50) [MSC v.1916 64 bit (AMD64)], pyOpenSSL 22.0.0 (OpenSSL 1.1.1q  5 Jul 2022), cryptography 37.0.1, Platform Windows-10-10.0.19045-SP0\n",
      "2024-07-02 10:47:24 [scrapy.crawler] INFO: Overridden settings:\n",
      "{'BOT_NAME': 'project_name',\n",
      " 'NEWSPIDER_MODULE': 'project_name.spiders',\n",
      " 'ROBOTSTXT_OBEY': True,\n",
      " 'SPIDER_MODULES': ['project_name.spiders']}\n",
      "2024-07-02 10:47:24 [scrapy.utils.log] DEBUG: Using reactor: twisted.internet.selectreactor.SelectReactor\n",
      "2024-07-02 10:47:24 [scrapy.extensions.telnet] INFO: Telnet Password: bf27c6e1a861be16\n",
      "2024-07-02 10:47:24 [scrapy.middleware] INFO: Enabled extensions:\n",
      "['scrapy.extensions.corestats.CoreStats',\n",
      " 'scrapy.extensions.telnet.TelnetConsole',\n",
      " 'scrapy.extensions.logstats.LogStats']\n",
      "2024-07-02 10:47:25 [scrapy.middleware] INFO: Enabled downloader middlewares:\n",
      "['scrapy.downloadermiddlewares.robotstxt.RobotsTxtMiddleware',\n",
      " 'scrapy.downloadermiddlewares.httpauth.HttpAuthMiddleware',\n",
      " 'scrapy.downloadermiddlewares.downloadtimeout.DownloadTimeoutMiddleware',\n",
      " 'scrapy.downloadermiddlewares.defaultheaders.DefaultHeadersMiddleware',\n",
      " 'scrapy.downloadermiddlewares.useragent.UserAgentMiddleware',\n",
      " 'scrapy.downloadermiddlewares.retry.RetryMiddleware',\n",
      " 'scrapy.downloadermiddlewares.redirect.MetaRefreshMiddleware',\n",
      " 'scrapy.downloadermiddlewares.httpcompression.HttpCompressionMiddleware',\n",
      " 'scrapy.downloadermiddlewares.redirect.RedirectMiddleware',\n",
      " 'scrapy.downloadermiddlewares.cookies.CookiesMiddleware',\n",
      " 'scrapy.downloadermiddlewares.httpproxy.HttpProxyMiddleware',\n",
      " 'scrapy.downloadermiddlewares.stats.DownloaderStats']\n",
      "2024-07-02 10:47:25 [scrapy.middleware] INFO: Enabled spider middlewares:\n",
      "['scrapy.spidermiddlewares.httperror.HttpErrorMiddleware',\n",
      " 'scrapy.spidermiddlewares.offsite.OffsiteMiddleware',\n",
      " 'scrapy.spidermiddlewares.referer.RefererMiddleware',\n",
      " 'scrapy.spidermiddlewares.urllength.UrlLengthMiddleware',\n",
      " 'scrapy.spidermiddlewares.depth.DepthMiddleware']\n",
      "2024-07-02 10:47:25 [scrapy.middleware] INFO: Enabled item pipelines:\n",
      "[]\n",
      "2024-07-02 10:47:25 [scrapy.core.engine] INFO: Spider opened\n",
      "2024-07-02 10:47:25 [scrapy.extensions.logstats] INFO: Crawled 0 pages (at 0 pages/min), scraped 0 items (at 0 items/min)\n",
      "2024-07-02 10:47:25 [scrapy.extensions.telnet] INFO: Telnet console listening on 127.0.0.1:6023\n",
      "2024-07-02 10:47:25 [scrapy.core.engine] DEBUG: Crawled (404) <GET http://example.com/robots.txt> (referer: None)\n",
      "2024-07-02 10:47:25 [protego] DEBUG: Rule at line 12 without any user agent to enforce it on.\n",
      "2024-07-02 10:47:25 [protego] DEBUG: Rule at line 13 without any user agent to enforce it on.\n",
      "2024-07-02 10:47:25 [protego] DEBUG: Rule at line 14 without any user agent to enforce it on.\n",
      "2024-07-02 10:47:25 [protego] DEBUG: Rule at line 18 without any user agent to enforce it on.\n",
      "2024-07-02 10:47:25 [protego] DEBUG: Rule at line 19 without any user agent to enforce it on.\n",
      "2024-07-02 10:47:25 [protego] DEBUG: Rule at line 20 without any user agent to enforce it on.\n",
      "2024-07-02 10:47:25 [protego] DEBUG: Rule at line 22 without any user agent to enforce it on.\n",
      "2024-07-02 10:47:25 [protego] DEBUG: Rule at line 23 without any user agent to enforce it on.\n",
      "2024-07-02 10:47:25 [protego] DEBUG: Rule at line 25 without any user agent to enforce it on.\n",
      "2024-07-02 10:47:25 [protego] DEBUG: Rule at line 27 without any user agent to enforce it on.\n",
      "2024-07-02 10:47:25 [protego] DEBUG: Rule at line 29 without any user agent to enforce it on.\n",
      "2024-07-02 10:47:25 [protego] DEBUG: Rule at line 31 without any user agent to enforce it on.\n",
      "2024-07-02 10:47:25 [protego] DEBUG: Rule at line 32 without any user agent to enforce it on.\n",
      "2024-07-02 10:47:25 [protego] DEBUG: Rule at line 43 without any user agent to enforce it on.\n",
      "2024-07-02 10:47:26 [scrapy.core.engine] DEBUG: Crawled (200) <GET http://example.com/> (referer: None)\n",
      "2024-07-02 10:47:26 [scrapy.core.engine] INFO: Closing spider (finished)\n",
      "2024-07-02 10:47:26 [scrapy.statscollectors] INFO: Dumping Scrapy stats:\n",
      "{'downloader/request_bytes': 440,\n",
      " 'downloader/request_count': 2,\n",
      " 'downloader/request_method_count/GET': 2,\n",
      " 'downloader/response_bytes': 2017,\n",
      " 'downloader/response_count': 2,\n",
      " 'downloader/response_status_count/200': 1,\n",
      " 'downloader/response_status_count/404': 1,\n",
      " 'elapsed_time_seconds': 0.736839,\n",
      " 'finish_reason': 'finished',\n",
      " 'finish_time': datetime.datetime(2024, 7, 2, 1, 47, 26, 283292),\n",
      " 'httpcompression/response_bytes': 2512,\n",
      " 'httpcompression/response_count': 2,\n",
      " 'log_count/DEBUG': 17,\n",
      " 'log_count/INFO': 10,\n",
      " 'response_received_count': 2,\n",
      " 'robotstxt/request_count': 1,\n",
      " 'robotstxt/response_count': 1,\n",
      " 'robotstxt/response_status_count/404': 1,\n",
      " 'scheduler/dequeued': 1,\n",
      " 'scheduler/dequeued/memory': 1,\n",
      " 'scheduler/enqueued': 1,\n",
      " 'scheduler/enqueued/memory': 1,\n",
      " 'start_time': datetime.datetime(2024, 7, 2, 1, 47, 25, 546453)}\n",
      "2024-07-02 10:47:26 [scrapy.core.engine] INFO: Spider closed (finished)\n"
     ]
    }
   ],
   "source": [
    "!scrapy crawl spider_name"
   ]
  },
  {
   "cell_type": "code",
   "execution_count": null,
   "id": "2cdb40bc",
   "metadata": {},
   "outputs": [],
   "source": []
  }
 ],
 "metadata": {
  "kernelspec": {
   "display_name": "Python 3 (ipykernel)",
   "language": "python",
   "name": "python3"
  },
  "language_info": {
   "codemirror_mode": {
    "name": "ipython",
    "version": 3
   },
   "file_extension": ".py",
   "mimetype": "text/x-python",
   "name": "python",
   "nbconvert_exporter": "python",
   "pygments_lexer": "ipython3",
   "version": "3.9.13"
  }
 },
 "nbformat": 4,
 "nbformat_minor": 5
}
