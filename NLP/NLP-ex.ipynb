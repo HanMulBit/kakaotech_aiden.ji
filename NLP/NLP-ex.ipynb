{
 "cells": [
  {
   "cell_type": "code",
   "execution_count": 1,
   "id": "0e66d15e",
   "metadata": {},
   "outputs": [
    {
     "name": "stdout",
     "output_type": "stream",
     "text": [
      "Collecting ratsnlp\n",
      "  Downloading ratsnlp-1.0.53-py3-none-any.whl (42 kB)\n",
      "     ---------------------------------------- 42.2/42.2 kB 2.0 MB/s eta 0:00:00\n",
      "Collecting pytorch-lightning==1.6.1\n",
      "  Downloading pytorch_lightning-1.6.1-py3-none-any.whl (582 kB)\n",
      "     ------------------------------------- 582.5/582.5 kB 12.2 MB/s eta 0:00:00\n",
      "Collecting flask-ngrok>=0.0.25\n",
      "  Downloading flask_ngrok-0.0.25-py3-none-any.whl (3.1 kB)\n",
      "Collecting flask-cors>=3.0.10\n",
      "  Downloading Flask_Cors-4.0.1-py2.py3-none-any.whl (14 kB)\n",
      "Collecting Korpora>=0.2.0\n",
      "  Downloading Korpora-0.2.0-py3-none-any.whl (57 kB)\n",
      "     ---------------------------------------- 57.8/57.8 kB 3.2 MB/s eta 0:00:00\n",
      "Collecting transformers==4.28.1\n",
      "  Downloading transformers-4.28.1-py3-none-any.whl (7.0 MB)\n",
      "     ---------------------------------------- 7.0/7.0 MB 8.5 MB/s eta 0:00:00\n",
      "Collecting flask>=1.1.4\n",
      "  Downloading flask-3.0.3-py3-none-any.whl (101 kB)\n",
      "     -------------------------------------- 101.7/101.7 kB 5.7 MB/s eta 0:00:00\n",
      "Requirement already satisfied: packaging>=17.0 in c:\\users\\ys\\anaconda3\\lib\\site-packages (from pytorch-lightning==1.6.1->ratsnlp) (21.3)\n",
      "Collecting torchmetrics>=0.4.1\n",
      "  Downloading torchmetrics-1.4.0.post0-py3-none-any.whl (868 kB)\n",
      "     ------------------------------------- 868.8/868.8 kB 11.0 MB/s eta 0:00:00\n",
      "Requirement already satisfied: typing-extensions>=4.0.0 in c:\\users\\ys\\anaconda3\\lib\\site-packages (from pytorch-lightning==1.6.1->ratsnlp) (4.12.2)\n",
      "Requirement already satisfied: torch>=1.8.* in c:\\users\\ys\\anaconda3\\lib\\site-packages (from pytorch-lightning==1.6.1->ratsnlp) (2.1.0)\n",
      "Requirement already satisfied: tqdm>=4.41.0 in c:\\users\\ys\\anaconda3\\lib\\site-packages (from pytorch-lightning==1.6.1->ratsnlp) (4.64.1)\n",
      "Requirement already satisfied: fsspec[http]!=2021.06.0,>=2021.05.0 in c:\\users\\ys\\anaconda3\\lib\\site-packages (from pytorch-lightning==1.6.1->ratsnlp) (2022.7.1)\n",
      "Collecting pyDeprecate<0.4.0,>=0.3.1\n",
      "  Downloading pyDeprecate-0.3.2-py3-none-any.whl (10 kB)\n",
      "Requirement already satisfied: tensorboard>=2.2.0 in c:\\users\\ys\\anaconda3\\lib\\site-packages (from pytorch-lightning==1.6.1->ratsnlp) (2.14.1)\n",
      "Requirement already satisfied: numpy>=1.17.2 in c:\\users\\ys\\appdata\\roaming\\python\\python39\\site-packages (from pytorch-lightning==1.6.1->ratsnlp) (1.24.4)\n",
      "Requirement already satisfied: PyYAML>=5.4 in c:\\users\\ys\\anaconda3\\lib\\site-packages (from pytorch-lightning==1.6.1->ratsnlp) (6.0)\n",
      "Collecting tokenizers!=0.11.3,<0.14,>=0.11.1\n",
      "  Downloading tokenizers-0.13.3-cp39-cp39-win_amd64.whl (3.5 MB)\n",
      "     ---------------------------------------- 3.5/3.5 MB 8.8 MB/s eta 0:00:00\n",
      "Requirement already satisfied: regex!=2019.12.17 in c:\\users\\ys\\anaconda3\\lib\\site-packages (from transformers==4.28.1->ratsnlp) (2022.7.9)\n",
      "Requirement already satisfied: filelock in c:\\users\\ys\\anaconda3\\lib\\site-packages (from transformers==4.28.1->ratsnlp) (3.6.0)\n",
      "Collecting huggingface-hub<1.0,>=0.11.0\n",
      "  Downloading huggingface_hub-0.23.4-py3-none-any.whl (402 kB)\n",
      "     -------------------------------------- 402.6/402.6 kB 8.3 MB/s eta 0:00:00\n",
      "Requirement already satisfied: requests in c:\\users\\ys\\anaconda3\\lib\\site-packages (from transformers==4.28.1->ratsnlp) (2.28.1)\n",
      "Collecting click>=8.1.3\n",
      "  Downloading click-8.1.7-py3-none-any.whl (97 kB)\n",
      "     ---------------------------------------- 97.9/97.9 kB ? eta 0:00:00\n",
      "Collecting Werkzeug>=3.0.0\n",
      "  Downloading werkzeug-3.0.3-py3-none-any.whl (227 kB)\n",
      "     ------------------------------------- 227.3/227.3 kB 14.5 MB/s eta 0:00:00\n",
      "Collecting itsdangerous>=2.1.2\n",
      "  Downloading itsdangerous-2.2.0-py3-none-any.whl (16 kB)\n",
      "Collecting Jinja2>=3.1.2\n",
      "  Downloading jinja2-3.1.4-py3-none-any.whl (133 kB)\n",
      "     -------------------------------------- 133.3/133.3 kB 7.7 MB/s eta 0:00:00\n",
      "Collecting blinker>=1.6.2\n",
      "  Downloading blinker-1.8.2-py3-none-any.whl (9.5 kB)\n",
      "Requirement already satisfied: importlib-metadata>=3.6.0 in c:\\users\\ys\\anaconda3\\lib\\site-packages (from flask>=1.1.4->ratsnlp) (4.11.3)\n",
      "Requirement already satisfied: xlrd>=1.2.0 in c:\\users\\ys\\anaconda3\\lib\\site-packages (from Korpora>=0.2.0->ratsnlp) (2.0.1)\n",
      "Collecting dataclasses>=0.6\n",
      "  Downloading dataclasses-0.6-py3-none-any.whl (14 kB)\n",
      "Requirement already satisfied: colorama in c:\\users\\ys\\anaconda3\\lib\\site-packages (from click>=8.1.3->flask>=1.1.4->ratsnlp) (0.4.5)\n",
      "Collecting aiohttp\n",
      "  Downloading aiohttp-3.9.5-cp39-cp39-win_amd64.whl (371 kB)\n",
      "     ------------------------------------- 371.6/371.6 kB 11.7 MB/s eta 0:00:00\n",
      "Collecting huggingface-hub<1.0,>=0.11.0\n",
      "  Downloading huggingface_hub-0.23.3-py3-none-any.whl (401 kB)\n",
      "     ------------------------------------- 401.7/401.7 kB 12.6 MB/s eta 0:00:00\n",
      "  Downloading huggingface_hub-0.23.2-py3-none-any.whl (401 kB)\n",
      "     ------------------------------------- 401.7/401.7 kB 12.2 MB/s eta 0:00:00\n",
      "  Downloading huggingface_hub-0.23.1-py3-none-any.whl (401 kB)\n",
      "     ------------------------------------- 401.3/401.3 kB 12.6 MB/s eta 0:00:00\n",
      "  Downloading huggingface_hub-0.23.0-py3-none-any.whl (401 kB)\n",
      "     -------------------------------------- 401.2/401.2 kB 6.3 MB/s eta 0:00:00\n",
      "  Downloading huggingface_hub-0.22.2-py3-none-any.whl (388 kB)\n",
      "     -------------------------------------- 388.9/388.9 kB 8.1 MB/s eta 0:00:00\n",
      "  Downloading huggingface_hub-0.22.1-py3-none-any.whl (388 kB)\n",
      "     -------------------------------------- 388.6/388.6 kB 8.1 MB/s eta 0:00:00\n",
      "  Downloading huggingface_hub-0.22.0-py3-none-any.whl (388 kB)\n",
      "     -------------------------------------- 388.5/388.5 kB 8.0 MB/s eta 0:00:00\n",
      "  Downloading huggingface_hub-0.21.4-py3-none-any.whl (346 kB)\n",
      "     -------------------------------------- 346.4/346.4 kB 7.2 MB/s eta 0:00:00\n",
      "  Downloading huggingface_hub-0.21.3-py3-none-any.whl (346 kB)\n",
      "     ------------------------------------- 346.2/346.2 kB 10.8 MB/s eta 0:00:00\n",
      "  Downloading huggingface_hub-0.21.2-py3-none-any.whl (346 kB)\n",
      "     ------------------------------------- 346.2/346.2 kB 10.8 MB/s eta 0:00:00\n",
      "  Downloading huggingface_hub-0.21.1-py3-none-any.whl (346 kB)\n",
      "     ------------------------------------- 346.1/346.1 kB 10.5 MB/s eta 0:00:00\n",
      "  Downloading huggingface_hub-0.21.0-py3-none-any.whl (346 kB)\n",
      "     ------------------------------------- 346.1/346.1 kB 10.5 MB/s eta 0:00:00\n",
      "  Downloading huggingface_hub-0.20.3-py3-none-any.whl (330 kB)\n",
      "     ------------------------------------- 330.1/330.1 kB 10.3 MB/s eta 0:00:00\n",
      "  Downloading huggingface_hub-0.20.2-py3-none-any.whl (330 kB)\n",
      "     ------------------------------------- 330.3/330.3 kB 10.3 MB/s eta 0:00:00\n",
      "  Downloading huggingface_hub-0.20.1-py3-none-any.whl (330 kB)\n",
      "     ------------------------------------- 330.1/330.1 kB 10.3 MB/s eta 0:00:00\n",
      "  Downloading huggingface_hub-0.20.0-py3-none-any.whl (329 kB)\n",
      "     ------------------------------------- 329.1/329.1 kB 10.0 MB/s eta 0:00:00\n",
      "  Downloading huggingface_hub-0.19.4-py3-none-any.whl (311 kB)\n",
      "     -------------------------------------- 311.7/311.7 kB 9.7 MB/s eta 0:00:00\n",
      "  Downloading huggingface_hub-0.19.3-py3-none-any.whl (311 kB)\n",
      "     ------------------------------------- 311.2/311.2 kB 18.8 MB/s eta 0:00:00\n",
      "  Downloading huggingface_hub-0.19.2-py3-none-any.whl (311 kB)\n",
      "     -------------------------------------- 311.2/311.2 kB 6.4 MB/s eta 0:00:00\n",
      "  Downloading huggingface_hub-0.19.1-py3-none-any.whl (311 kB)\n",
      "     -------------------------------------- 311.1/311.1 kB 1.7 MB/s eta 0:00:00\n",
      "  Downloading huggingface_hub-0.19.0-py3-none-any.whl (311 kB)\n",
      "     -------------------------------------- 311.2/311.2 kB 9.7 MB/s eta 0:00:00\n",
      "  Downloading huggingface_hub-0.18.0-py3-none-any.whl (301 kB)\n",
      "     -------------------------------------- 302.0/302.0 kB 9.1 MB/s eta 0:00:00\n",
      "  Downloading huggingface_hub-0.17.3-py3-none-any.whl (295 kB)\n",
      "     -------------------------------------- 295.0/295.0 kB 9.2 MB/s eta 0:00:00\n",
      "Requirement already satisfied: zipp>=0.5 in c:\\users\\ys\\anaconda3\\lib\\site-packages (from importlib-metadata>=3.6.0->flask>=1.1.4->ratsnlp) (3.8.0)\n",
      "Requirement already satisfied: MarkupSafe>=2.0 in c:\\users\\ys\\anaconda3\\lib\\site-packages (from Jinja2>=3.1.2->flask>=1.1.4->ratsnlp) (2.0.1)\n",
      "Requirement already satisfied: pyparsing!=3.0.5,>=2.0.2 in c:\\users\\ys\\anaconda3\\lib\\site-packages (from packaging>=17.0->pytorch-lightning==1.6.1->ratsnlp) (2.4.7)\n",
      "Requirement already satisfied: idna<4,>=2.5 in c:\\users\\ys\\appdata\\roaming\\python\\python39\\site-packages (from requests->transformers==4.28.1->ratsnlp) (2.10)\n",
      "Requirement already satisfied: certifi>=2017.4.17 in c:\\users\\ys\\appdata\\roaming\\python\\python39\\site-packages (from requests->transformers==4.28.1->ratsnlp) (2023.7.22)\n",
      "Requirement already satisfied: urllib3<1.27,>=1.21.1 in c:\\users\\ys\\anaconda3\\lib\\site-packages (from requests->transformers==4.28.1->ratsnlp) (1.26.11)\n",
      "Requirement already satisfied: charset-normalizer<3,>=2 in c:\\users\\ys\\anaconda3\\lib\\site-packages (from requests->transformers==4.28.1->ratsnlp) (2.0.4)\n",
      "Requirement already satisfied: grpcio>=1.48.2 in c:\\users\\ys\\anaconda3\\lib\\site-packages (from tensorboard>=2.2.0->pytorch-lightning==1.6.1->ratsnlp) (1.59.2)\n",
      "Requirement already satisfied: protobuf>=3.19.6 in c:\\users\\ys\\anaconda3\\lib\\site-packages (from tensorboard>=2.2.0->pytorch-lightning==1.6.1->ratsnlp) (4.25.0)\n",
      "Requirement already satisfied: setuptools>=41.0.0 in c:\\users\\ys\\anaconda3\\lib\\site-packages (from tensorboard>=2.2.0->pytorch-lightning==1.6.1->ratsnlp) (63.4.1)\n",
      "Requirement already satisfied: six>1.9 in c:\\users\\ys\\anaconda3\\lib\\site-packages (from tensorboard>=2.2.0->pytorch-lightning==1.6.1->ratsnlp) (1.16.0)\n",
      "Requirement already satisfied: google-auth-oauthlib<1.1,>=0.5 in c:\\users\\ys\\anaconda3\\lib\\site-packages (from tensorboard>=2.2.0->pytorch-lightning==1.6.1->ratsnlp) (1.0.0)\n",
      "Requirement already satisfied: google-auth<3,>=1.6.3 in c:\\users\\ys\\anaconda3\\lib\\site-packages (from tensorboard>=2.2.0->pytorch-lightning==1.6.1->ratsnlp) (2.23.4)\n",
      "Requirement already satisfied: absl-py>=0.4 in c:\\users\\ys\\anaconda3\\lib\\site-packages (from tensorboard>=2.2.0->pytorch-lightning==1.6.1->ratsnlp) (2.0.0)\n",
      "Requirement already satisfied: tensorboard-data-server<0.8.0,>=0.7.0 in c:\\users\\ys\\anaconda3\\lib\\site-packages (from tensorboard>=2.2.0->pytorch-lightning==1.6.1->ratsnlp) (0.7.2)\n",
      "Requirement already satisfied: markdown>=2.6.8 in c:\\users\\ys\\anaconda3\\lib\\site-packages (from tensorboard>=2.2.0->pytorch-lightning==1.6.1->ratsnlp) (3.3.4)\n",
      "Requirement already satisfied: sympy in c:\\users\\ys\\anaconda3\\lib\\site-packages (from torch>=1.8.*->pytorch-lightning==1.6.1->ratsnlp) (1.10.1)\n",
      "Requirement already satisfied: networkx in c:\\users\\ys\\anaconda3\\lib\\site-packages (from torch>=1.8.*->pytorch-lightning==1.6.1->ratsnlp) (2.8.4)\n",
      "Collecting lightning-utilities>=0.8.0\n",
      "  Downloading lightning_utilities-0.11.3.post0-py3-none-any.whl (26 kB)\n",
      "Collecting MarkupSafe>=2.0\n",
      "  Downloading MarkupSafe-2.1.5-cp39-cp39-win_amd64.whl (17 kB)\n",
      "Requirement already satisfied: pyasn1-modules>=0.2.1 in c:\\users\\ys\\anaconda3\\lib\\site-packages (from google-auth<3,>=1.6.3->tensorboard>=2.2.0->pytorch-lightning==1.6.1->ratsnlp) (0.2.8)\n",
      "Requirement already satisfied: rsa<5,>=3.1.4 in c:\\users\\ys\\anaconda3\\lib\\site-packages (from google-auth<3,>=1.6.3->tensorboard>=2.2.0->pytorch-lightning==1.6.1->ratsnlp) (4.9)\n",
      "Requirement already satisfied: cachetools<6.0,>=2.0.0 in c:\\users\\ys\\anaconda3\\lib\\site-packages (from google-auth<3,>=1.6.3->tensorboard>=2.2.0->pytorch-lightning==1.6.1->ratsnlp) (5.3.2)\n",
      "Requirement already satisfied: requests-oauthlib>=0.7.0 in c:\\users\\ys\\anaconda3\\lib\\site-packages (from google-auth-oauthlib<1.1,>=0.5->tensorboard>=2.2.0->pytorch-lightning==1.6.1->ratsnlp) (1.3.1)\n",
      "Collecting multidict<7.0,>=4.5\n",
      "  Downloading multidict-6.0.5-cp39-cp39-win_amd64.whl (28 kB)\n",
      "Collecting frozenlist>=1.1.1\n",
      "  Downloading frozenlist-1.4.1-cp39-cp39-win_amd64.whl (50 kB)\n",
      "     ---------------------------------------- 50.7/50.7 kB 2.5 MB/s eta 0:00:00\n",
      "Requirement already satisfied: attrs>=17.3.0 in c:\\users\\ys\\anaconda3\\lib\\site-packages (from aiohttp->fsspec[http]!=2021.06.0,>=2021.05.0->pytorch-lightning==1.6.1->ratsnlp) (23.2.0)\n",
      "Collecting yarl<2.0,>=1.0\n",
      "  Downloading yarl-1.9.4-cp39-cp39-win_amd64.whl (76 kB)\n",
      "     ---------------------------------------- 76.9/76.9 kB 4.2 MB/s eta 0:00:00\n",
      "Collecting async-timeout<5.0,>=4.0\n",
      "  Downloading async_timeout-4.0.3-py3-none-any.whl (5.7 kB)\n",
      "Collecting aiosignal>=1.1.2\n",
      "  Downloading aiosignal-1.3.1-py3-none-any.whl (7.6 kB)\n",
      "Requirement already satisfied: mpmath>=0.19 in c:\\users\\ys\\anaconda3\\lib\\site-packages (from sympy->torch>=1.8.*->pytorch-lightning==1.6.1->ratsnlp) (1.2.1)\n",
      "Requirement already satisfied: pyasn1<0.5.0,>=0.4.6 in c:\\users\\ys\\anaconda3\\lib\\site-packages (from pyasn1-modules>=0.2.1->google-auth<3,>=1.6.3->tensorboard>=2.2.0->pytorch-lightning==1.6.1->ratsnlp) (0.4.8)\n",
      "Requirement already satisfied: oauthlib>=3.0.0 in c:\\users\\ys\\anaconda3\\lib\\site-packages (from requests-oauthlib>=0.7.0->google-auth-oauthlib<1.1,>=0.5->tensorboard>=2.2.0->pytorch-lightning==1.6.1->ratsnlp) (3.2.2)\n",
      "Installing collected packages: tokenizers, dataclasses, pyDeprecate, multidict, MarkupSafe, itsdangerous, frozenlist, click, blinker, async-timeout, yarl, Werkzeug, lightning-utilities, Korpora, Jinja2, huggingface-hub, aiosignal, transformers, flask, aiohttp, torchmetrics, flask-ngrok, flask-cors, pytorch-lightning, ratsnlp\n",
      "  Attempting uninstall: MarkupSafe\n",
      "    Found existing installation: MarkupSafe 2.0.1\n",
      "    Uninstalling MarkupSafe-2.0.1:\n",
      "      Successfully uninstalled MarkupSafe-2.0.1\n"
     ]
    },
    {
     "name": "stderr",
     "output_type": "stream",
     "text": [
      "WARNING: Ignoring invalid distribution -illow (c:\\users\\ys\\anaconda3\\lib\\site-packages)\n",
      "WARNING: Ignoring invalid distribution -illow (c:\\users\\ys\\anaconda3\\lib\\site-packages)\n",
      "WARNING: Ignoring invalid distribution -illow (c:\\users\\ys\\anaconda3\\lib\\site-packages)\n",
      "    WARNING: Ignoring invalid distribution -illow (c:\\users\\ys\\anaconda3\\lib\\site-packages)\n",
      "ERROR: Could not install packages due to an OSError: [WinError 5] 액세스가 거부되었습니다: 'C:\\\\Users\\\\Ys\\\\anaconda3\\\\Lib\\\\site-packages\\\\~arkupsafe\\\\_speedups.cp39-win_amd64.pyd'\n",
      "Consider using the `--user` option or check the permissions.\n",
      "\n",
      "WARNING: Ignoring invalid distribution -illow (c:\\users\\ys\\anaconda3\\lib\\site-packages)\n",
      "WARNING: Ignoring invalid distribution -illow (c:\\users\\ys\\anaconda3\\lib\\site-packages)\n",
      "WARNING: Ignoring invalid distribution -illow (c:\\users\\ys\\anaconda3\\lib\\site-packages)\n"
     ]
    }
   ],
   "source": [
    "!pip install ratsnlp"
   ]
  },
  {
   "cell_type": "code",
   "execution_count": 5,
   "id": "292df46a",
   "metadata": {
    "scrolled": true
   },
   "outputs": [
    {
     "name": "stdout",
     "output_type": "stream",
     "text": [
      "Collecting Korpora\n",
      "  Using cached Korpora-0.2.0-py3-none-any.whl (57 kB)\n",
      "Requirement already satisfied: requests>=2.20.0 in c:\\users\\ys\\anaconda3\\lib\\site-packages (from Korpora) (2.28.1)\n",
      "Requirement already satisfied: xlrd>=1.2.0 in c:\\users\\ys\\anaconda3\\lib\\site-packages (from Korpora) (2.0.1)\n",
      "Requirement already satisfied: dataclasses>=0.6 in c:\\users\\ys\\anaconda3\\lib\\site-packages (from Korpora) (0.6)\n",
      "Requirement already satisfied: numpy>=1.18.0 in c:\\users\\ys\\appdata\\roaming\\python\\python39\\site-packages (from Korpora) (1.24.4)\n",
      "Requirement already satisfied: tqdm>=4.46.0 in c:\\users\\ys\\anaconda3\\lib\\site-packages (from Korpora) (4.64.1)\n",
      "Requirement already satisfied: charset-normalizer<3,>=2 in c:\\users\\ys\\anaconda3\\lib\\site-packages (from requests>=2.20.0->Korpora) (2.0.4)\n",
      "Requirement already satisfied: urllib3<1.27,>=1.21.1 in c:\\users\\ys\\anaconda3\\lib\\site-packages (from requests>=2.20.0->Korpora) (1.26.11)\n",
      "Requirement already satisfied: idna<4,>=2.5 in c:\\users\\ys\\appdata\\roaming\\python\\python39\\site-packages (from requests>=2.20.0->Korpora) (2.10)\n",
      "Requirement already satisfied: certifi>=2017.4.17 in c:\\users\\ys\\appdata\\roaming\\python\\python39\\site-packages (from requests>=2.20.0->Korpora) (2023.7.22)\n",
      "Requirement already satisfied: colorama in c:\\users\\ys\\anaconda3\\lib\\site-packages (from tqdm>=4.46.0->Korpora) (0.4.5)\n",
      "Installing collected packages: Korpora\n",
      "Successfully installed Korpora-0.2.0\n"
     ]
    },
    {
     "name": "stderr",
     "output_type": "stream",
     "text": [
      "WARNING: Ignoring invalid distribution -illow (c:\\users\\ys\\anaconda3\\lib\\site-packages)\n",
      "WARNING: Ignoring invalid distribution -illow (c:\\users\\ys\\anaconda3\\lib\\site-packages)\n",
      "WARNING: Ignoring invalid distribution -illow (c:\\users\\ys\\anaconda3\\lib\\site-packages)\n",
      "WARNING: Ignoring invalid distribution -illow (c:\\users\\ys\\anaconda3\\lib\\site-packages)\n",
      "WARNING: Ignoring invalid distribution -illow (c:\\users\\ys\\anaconda3\\lib\\site-packages)\n",
      "WARNING: Ignoring invalid distribution -illow (c:\\users\\ys\\anaconda3\\lib\\site-packages)\n",
      "WARNING: Ignoring invalid distribution -illow (c:\\users\\ys\\anaconda3\\lib\\site-packages)\n"
     ]
    }
   ],
   "source": [
    "!pip install Korpora"
   ]
  },
  {
   "cell_type": "code",
   "execution_count": 6,
   "id": "2588d0ed",
   "metadata": {
    "scrolled": true
   },
   "outputs": [
    {
     "name": "stdout",
     "output_type": "stream",
     "text": [
      "\n",
      "    Korpora 는 다른 분들이 연구 목적으로 공유해주신 말뭉치들을\n",
      "    손쉽게 다운로드, 사용할 수 있는 기능만을 제공합니다.\n",
      "\n",
      "    말뭉치들을 공유해 주신 분들에게 감사드리며, 각 말뭉치 별 설명과 라이센스를 공유 드립니다.\n",
      "    해당 말뭉치에 대해 자세히 알고 싶으신 분은 아래의 description 을 참고,\n",
      "    해당 말뭉치를 연구/상용의 목적으로 이용하실 때에는 아래의 라이센스를 참고해 주시기 바랍니다.\n",
      "\n",
      "    # Description\n",
      "    Author : e9t@github\n",
      "    Repository : https://github.com/e9t/nsmc\n",
      "    References : www.lucypark.kr/docs/2015-pyconkr/#39\n",
      "\n",
      "    Naver sentiment movie corpus v1.0\n",
      "    This is a movie review dataset in the Korean language.\n",
      "    Reviews were scraped from Naver Movies.\n",
      "\n",
      "    The dataset construction is based on the method noted in\n",
      "    [Large movie review dataset][^1] from Maas et al., 2011.\n",
      "\n",
      "    [^1]: http://ai.stanford.edu/~amaas/data/sentiment/\n",
      "\n",
      "    # License\n",
      "    CC0 1.0 Universal (CC0 1.0) Public Domain Dedication\n",
      "    Details in https://creativecommons.org/publicdomain/zero/1.0/\n",
      "\n"
     ]
    },
    {
     "name": "stderr",
     "output_type": "stream",
     "text": [
      "[nsmc] download ratings_train.txt: 14.6MB [00:01, 10.6MB/s]                                                            \n",
      "[nsmc] download ratings_test.txt: 4.90MB [00:00, 9.34MB/s]                                                             \n"
     ]
    }
   ],
   "source": [
    "from Korpora import Korpora\n",
    "nsmc = Korpora.load(\"nsmc\",force_download=True)"
   ]
  },
  {
   "cell_type": "code",
   "execution_count": 9,
   "id": "597cd2f9",
   "metadata": {},
   "outputs": [],
   "source": [
    "import os\n",
    "def write_lines(path,lines):\n",
    "    with open(path,'w',encoding='utf-8') as f:\n",
    "        for line in lines:\n",
    "            f.write(f'{line}\\n')\n",
    "write_lines(\"train.txt\",nsmc.train.get_all_texts())\n",
    "write_lines(\"test.txt\",nsmc.test.get_all_texts())"
   ]
  },
  {
   "cell_type": "code",
   "execution_count": 10,
   "id": "77244146",
   "metadata": {},
   "outputs": [],
   "source": [
    "import os \n",
    "os.makedirs(\"nlpbook/bbpe\",exist_ok=True)"
   ]
  },
  {
   "cell_type": "code",
   "execution_count": 12,
   "id": "405a029b",
   "metadata": {},
   "outputs": [
    {
     "data": {
      "text/plain": [
       "['nlpbook/bbpe\\\\vocab.json', 'nlpbook/bbpe\\\\merges.txt']"
      ]
     },
     "execution_count": 12,
     "metadata": {},
     "output_type": "execute_result"
    }
   ],
   "source": [
    "from tokenizers import ByteLevelBPETokenizer\n",
    "bytebpe_tokenizer = ByteLevelBPETokenizer()\n",
    "bytebpe_tokenizer.train(\n",
    "    files = ['train.txt','test.txt'],\n",
    "    vocab_size = 10000,\n",
    "    special_tokens = [\"[PAD]\"]\n",
    ")\n",
    "bytebpe_tokenizer.save_model(\"nlpbook/bbpe\")"
   ]
  },
  {
   "cell_type": "code",
   "execution_count": 13,
   "id": "eef981fe",
   "metadata": {},
   "outputs": [],
   "source": [
    "import os\n",
    "os.makedirs(\"nlpbook/wordpiece\",exist_ok=True)"
   ]
  },
  {
   "cell_type": "code",
   "execution_count": 14,
   "id": "9736680a",
   "metadata": {},
   "outputs": [
    {
     "data": {
      "text/plain": [
       "['nlpbook/wordpiece\\\\vocab.txt']"
      ]
     },
     "execution_count": 14,
     "metadata": {},
     "output_type": "execute_result"
    }
   ],
   "source": [
    "from tokenizers import BertWordPieceTokenizer\n",
    "wordpiece_tokenizer = BertWordPieceTokenizer(lowercase=False)\n",
    "wordpiece_tokenizer.train(\n",
    "    files = ['train.txt','test.txt'],\n",
    "    vocab_size = 10000,\n",
    ")\n",
    "wordpiece_tokenizer.save_model(\"nlpbook/wordpiece\")"
   ]
  },
  {
   "cell_type": "code",
   "execution_count": 16,
   "id": "7082eb5b",
   "metadata": {
    "scrolled": true
   },
   "outputs": [
    {
     "name": "stdout",
     "output_type": "stream",
     "text": [
      "Collecting transformers\n",
      "  Downloading transformers-4.42.3-py3-none-any.whl (9.3 MB)\n",
      "     ---------------------------------------- 9.3/9.3 MB 6.8 MB/s eta 0:00:00\n",
      "Collecting huggingface-hub<1.0,>=0.23.2\n",
      "  Using cached huggingface_hub-0.23.4-py3-none-any.whl (402 kB)\n",
      "Requirement already satisfied: tqdm>=4.27 in c:\\users\\ys\\anaconda3\\lib\\site-packages (from transformers) (4.64.1)\n",
      "Collecting safetensors>=0.4.1\n",
      "  Downloading safetensors-0.4.3-cp39-none-win_amd64.whl (287 kB)\n",
      "     -------------------------------------- 287.9/287.9 kB 4.4 MB/s eta 0:00:00\n",
      "Collecting tokenizers<0.20,>=0.19\n",
      "  Downloading tokenizers-0.19.1-cp39-none-win_amd64.whl (2.2 MB)\n",
      "     ---------------------------------------- 2.2/2.2 MB 9.4 MB/s eta 0:00:00\n",
      "Requirement already satisfied: packaging>=20.0 in c:\\users\\ys\\anaconda3\\lib\\site-packages (from transformers) (21.3)\n",
      "Requirement already satisfied: numpy<2.0,>=1.17 in c:\\users\\ys\\appdata\\roaming\\python\\python39\\site-packages (from transformers) (1.24.4)\n",
      "Requirement already satisfied: requests in c:\\users\\ys\\anaconda3\\lib\\site-packages (from transformers) (2.28.1)\n",
      "Requirement already satisfied: pyyaml>=5.1 in c:\\users\\ys\\anaconda3\\lib\\site-packages (from transformers) (6.0)\n",
      "Requirement already satisfied: filelock in c:\\users\\ys\\anaconda3\\lib\\site-packages (from transformers) (3.6.0)\n",
      "Requirement already satisfied: regex!=2019.12.17 in c:\\users\\ys\\anaconda3\\lib\\site-packages (from transformers) (2022.7.9)\n",
      "Collecting fsspec>=2023.5.0\n",
      "  Downloading fsspec-2024.6.1-py3-none-any.whl (177 kB)\n",
      "     ------------------------------------- 177.6/177.6 kB 11.2 MB/s eta 0:00:00\n",
      "Requirement already satisfied: typing-extensions>=3.7.4.3 in c:\\users\\ys\\anaconda3\\lib\\site-packages (from huggingface-hub<1.0,>=0.23.2->transformers) (4.12.2)\n",
      "Requirement already satisfied: pyparsing!=3.0.5,>=2.0.2 in c:\\users\\ys\\anaconda3\\lib\\site-packages (from packaging>=20.0->transformers) (2.4.7)\n",
      "Requirement already satisfied: colorama in c:\\users\\ys\\anaconda3\\lib\\site-packages (from tqdm>=4.27->transformers) (0.4.5)\n",
      "Requirement already satisfied: certifi>=2017.4.17 in c:\\users\\ys\\appdata\\roaming\\python\\python39\\site-packages (from requests->transformers) (2023.7.22)\n",
      "Requirement already satisfied: urllib3<1.27,>=1.21.1 in c:\\users\\ys\\anaconda3\\lib\\site-packages (from requests->transformers) (1.26.11)\n",
      "Requirement already satisfied: charset-normalizer<3,>=2 in c:\\users\\ys\\anaconda3\\lib\\site-packages (from requests->transformers) (2.0.4)\n",
      "Requirement already satisfied: idna<4,>=2.5 in c:\\users\\ys\\appdata\\roaming\\python\\python39\\site-packages (from requests->transformers) (2.10)\n",
      "Installing collected packages: safetensors, fsspec, huggingface-hub, tokenizers, transformers\n",
      "  Attempting uninstall: fsspec\n",
      "    Found existing installation: fsspec 2022.7.1\n",
      "    Uninstalling fsspec-2022.7.1:\n",
      "      Successfully uninstalled fsspec-2022.7.1\n",
      "  Attempting uninstall: tokenizers\n",
      "    Found existing installation: tokenizers 0.13.3\n",
      "    Uninstalling tokenizers-0.13.3:\n",
      "      Successfully uninstalled tokenizers-0.13.3\n"
     ]
    },
    {
     "name": "stderr",
     "output_type": "stream",
     "text": [
      "WARNING: Ignoring invalid distribution -illow (c:\\users\\ys\\anaconda3\\lib\\site-packages)\n",
      "WARNING: Ignoring invalid distribution -illow (c:\\users\\ys\\anaconda3\\lib\\site-packages)\n",
      "WARNING: Ignoring invalid distribution -illow (c:\\users\\ys\\anaconda3\\lib\\site-packages)\n",
      "    WARNING: Ignoring invalid distribution -illow (c:\\users\\ys\\anaconda3\\lib\\site-packages)\n",
      "    WARNING: Ignoring invalid distribution -illow (c:\\users\\ys\\anaconda3\\lib\\site-packages)\n",
      "ERROR: Could not install packages due to an OSError: [WinError 5] 액세스가 거부되었습니다: 'C:\\\\Users\\\\Ys\\\\anaconda3\\\\Lib\\\\site-packages\\\\~okenizers\\\\tokenizers.cp39-win_amd64.pyd'\n",
      "Consider using the `--user` option or check the permissions.\n",
      "\n",
      "WARNING: Ignoring invalid distribution -illow (c:\\users\\ys\\anaconda3\\lib\\site-packages)\n",
      "WARNING: Ignoring invalid distribution -illow (c:\\users\\ys\\anaconda3\\lib\\site-packages)\n",
      "WARNING: Ignoring invalid distribution -illow (c:\\users\\ys\\anaconda3\\lib\\site-packages)\n"
     ]
    }
   ],
   "source": [
    "!pip install transformers"
   ]
  },
  {
   "cell_type": "code",
   "execution_count": 22,
   "id": "ab9f9b82",
   "metadata": {},
   "outputs": [
    {
     "name": "stdout",
     "output_type": "stream",
     "text": [
      "Collecting ratsnlp\n",
      "  Using cached ratsnlp-1.0.53-py3-none-any.whl (42 kB)\n",
      "Collecting flask>=1.1.4\n",
      "  Using cached flask-3.0.3-py3-none-any.whl (101 kB)\n",
      "Collecting flask-cors>=3.0.10\n",
      "  Using cached Flask_Cors-4.0.1-py2.py3-none-any.whl (14 kB)\n",
      "Collecting pytorch-lightning==1.6.1\n",
      "  Using cached pytorch_lightning-1.6.1-py3-none-any.whl (582 kB)\n",
      "Collecting flask-ngrok>=0.0.25\n",
      "  Using cached flask_ngrok-0.0.25-py3-none-any.whl (3.1 kB)\n",
      "Requirement already satisfied: Korpora>=0.2.0 in c:\\users\\ys\\anaconda3\\lib\\site-packages (from ratsnlp) (0.2.0)\n",
      "Collecting transformers==4.28.1\n",
      "  Using cached transformers-4.28.1-py3-none-any.whl (7.0 MB)\n",
      "Requirement already satisfied: fsspec[http]!=2021.06.0,>=2021.05.0 in c:\\users\\ys\\anaconda3\\lib\\site-packages (from pytorch-lightning==1.6.1->ratsnlp) (2024.6.1)\n",
      "Requirement already satisfied: torch>=1.8.* in c:\\users\\ys\\anaconda3\\lib\\site-packages (from pytorch-lightning==1.6.1->ratsnlp) (2.1.0)\n",
      "Requirement already satisfied: tensorboard>=2.2.0 in c:\\users\\ys\\anaconda3\\lib\\site-packages (from pytorch-lightning==1.6.1->ratsnlp) (2.14.1)\n",
      "Requirement already satisfied: pyDeprecate<0.4.0,>=0.3.1 in c:\\users\\ys\\anaconda3\\lib\\site-packages (from pytorch-lightning==1.6.1->ratsnlp) (0.3.2)\n",
      "Requirement already satisfied: typing-extensions>=4.0.0 in c:\\users\\ys\\anaconda3\\lib\\site-packages (from pytorch-lightning==1.6.1->ratsnlp) (4.12.2)\n",
      "Requirement already satisfied: PyYAML>=5.4 in c:\\users\\ys\\anaconda3\\lib\\site-packages (from pytorch-lightning==1.6.1->ratsnlp) (6.0)\n",
      "Collecting torchmetrics>=0.4.1\n",
      "  Using cached torchmetrics-1.4.0.post0-py3-none-any.whl (868 kB)\n",
      "Requirement already satisfied: tqdm>=4.41.0 in c:\\users\\ys\\anaconda3\\lib\\site-packages (from pytorch-lightning==1.6.1->ratsnlp) (4.64.1)\n",
      "Requirement already satisfied: packaging>=17.0 in c:\\users\\ys\\anaconda3\\lib\\site-packages (from pytorch-lightning==1.6.1->ratsnlp) (21.3)\n",
      "Requirement already satisfied: numpy>=1.17.2 in c:\\users\\ys\\appdata\\roaming\\python\\python39\\site-packages (from pytorch-lightning==1.6.1->ratsnlp) (1.24.4)\n",
      "Collecting tokenizers!=0.11.3,<0.14,>=0.11.1\n",
      "  Using cached tokenizers-0.13.3-cp39-cp39-win_amd64.whl (3.5 MB)\n",
      "Requirement already satisfied: regex!=2019.12.17 in c:\\users\\ys\\anaconda3\\lib\\site-packages (from transformers==4.28.1->ratsnlp) (2022.7.9)\n",
      "Requirement already satisfied: huggingface-hub<1.0,>=0.11.0 in c:\\users\\ys\\anaconda3\\lib\\site-packages (from transformers==4.28.1->ratsnlp) (0.23.4)\n",
      "Requirement already satisfied: requests in c:\\users\\ys\\anaconda3\\lib\\site-packages (from transformers==4.28.1->ratsnlp) (2.28.1)\n",
      "Requirement already satisfied: filelock in c:\\users\\ys\\anaconda3\\lib\\site-packages (from transformers==4.28.1->ratsnlp) (3.6.0)\n",
      "Requirement already satisfied: importlib-metadata>=3.6.0 in c:\\users\\ys\\anaconda3\\lib\\site-packages (from flask>=1.1.4->ratsnlp) (4.11.3)\n",
      "Collecting blinker>=1.6.2\n",
      "  Using cached blinker-1.8.2-py3-none-any.whl (9.5 kB)\n",
      "Collecting Werkzeug>=3.0.0\n",
      "  Using cached werkzeug-3.0.3-py3-none-any.whl (227 kB)\n",
      "Collecting click>=8.1.3\n",
      "  Using cached click-8.1.7-py3-none-any.whl (97 kB)\n",
      "Collecting Jinja2>=3.1.2\n",
      "  Using cached jinja2-3.1.4-py3-none-any.whl (133 kB)\n",
      "Collecting itsdangerous>=2.1.2\n",
      "  Using cached itsdangerous-2.2.0-py3-none-any.whl (16 kB)\n",
      "Requirement already satisfied: xlrd>=1.2.0 in c:\\users\\ys\\anaconda3\\lib\\site-packages (from Korpora>=0.2.0->ratsnlp) (2.0.1)\n",
      "Requirement already satisfied: dataclasses>=0.6 in c:\\users\\ys\\anaconda3\\lib\\site-packages (from Korpora>=0.2.0->ratsnlp) (0.6)\n",
      "Requirement already satisfied: colorama in c:\\users\\ys\\anaconda3\\lib\\site-packages (from click>=8.1.3->flask>=1.1.4->ratsnlp) (0.4.5)\n",
      "Collecting aiohttp!=4.0.0a0,!=4.0.0a1\n",
      "  Using cached aiohttp-3.9.5-cp39-cp39-win_amd64.whl (371 kB)\n",
      "Requirement already satisfied: zipp>=0.5 in c:\\users\\ys\\anaconda3\\lib\\site-packages (from importlib-metadata>=3.6.0->flask>=1.1.4->ratsnlp) (3.8.0)\n",
      "Requirement already satisfied: MarkupSafe>=2.0 in c:\\users\\ys\\anaconda3\\lib\\site-packages (from Jinja2>=3.1.2->flask>=1.1.4->ratsnlp) (2.1.5)\n",
      "Requirement already satisfied: pyparsing!=3.0.5,>=2.0.2 in c:\\users\\ys\\anaconda3\\lib\\site-packages (from packaging>=17.0->pytorch-lightning==1.6.1->ratsnlp) (2.4.7)\n",
      "Requirement already satisfied: urllib3<1.27,>=1.21.1 in c:\\users\\ys\\anaconda3\\lib\\site-packages (from requests->transformers==4.28.1->ratsnlp) (1.26.11)\n",
      "Requirement already satisfied: idna<4,>=2.5 in c:\\users\\ys\\appdata\\roaming\\python\\python39\\site-packages (from requests->transformers==4.28.1->ratsnlp) (2.10)\n",
      "Requirement already satisfied: charset-normalizer<3,>=2 in c:\\users\\ys\\anaconda3\\lib\\site-packages (from requests->transformers==4.28.1->ratsnlp) (2.0.4)\n",
      "Requirement already satisfied: certifi>=2017.4.17 in c:\\users\\ys\\appdata\\roaming\\python\\python39\\site-packages (from requests->transformers==4.28.1->ratsnlp) (2023.7.22)\n",
      "Requirement already satisfied: markdown>=2.6.8 in c:\\users\\ys\\anaconda3\\lib\\site-packages (from tensorboard>=2.2.0->pytorch-lightning==1.6.1->ratsnlp) (3.3.4)\n",
      "Requirement already satisfied: tensorboard-data-server<0.8.0,>=0.7.0 in c:\\users\\ys\\anaconda3\\lib\\site-packages (from tensorboard>=2.2.0->pytorch-lightning==1.6.1->ratsnlp) (0.7.2)\n",
      "Requirement already satisfied: google-auth-oauthlib<1.1,>=0.5 in c:\\users\\ys\\anaconda3\\lib\\site-packages (from tensorboard>=2.2.0->pytorch-lightning==1.6.1->ratsnlp) (1.0.0)\n",
      "Requirement already satisfied: grpcio>=1.48.2 in c:\\users\\ys\\anaconda3\\lib\\site-packages (from tensorboard>=2.2.0->pytorch-lightning==1.6.1->ratsnlp) (1.59.2)\n",
      "Requirement already satisfied: absl-py>=0.4 in c:\\users\\ys\\anaconda3\\lib\\site-packages (from tensorboard>=2.2.0->pytorch-lightning==1.6.1->ratsnlp) (2.0.0)\n",
      "Requirement already satisfied: six>1.9 in c:\\users\\ys\\anaconda3\\lib\\site-packages (from tensorboard>=2.2.0->pytorch-lightning==1.6.1->ratsnlp) (1.16.0)\n",
      "Requirement already satisfied: google-auth<3,>=1.6.3 in c:\\users\\ys\\anaconda3\\lib\\site-packages (from tensorboard>=2.2.0->pytorch-lightning==1.6.1->ratsnlp) (2.23.4)\n",
      "Requirement already satisfied: setuptools>=41.0.0 in c:\\users\\ys\\anaconda3\\lib\\site-packages (from tensorboard>=2.2.0->pytorch-lightning==1.6.1->ratsnlp) (63.4.1)\n",
      "Requirement already satisfied: protobuf>=3.19.6 in c:\\users\\ys\\anaconda3\\lib\\site-packages (from tensorboard>=2.2.0->pytorch-lightning==1.6.1->ratsnlp) (4.25.0)\n",
      "Requirement already satisfied: sympy in c:\\users\\ys\\anaconda3\\lib\\site-packages (from torch>=1.8.*->pytorch-lightning==1.6.1->ratsnlp) (1.10.1)\n",
      "Requirement already satisfied: networkx in c:\\users\\ys\\anaconda3\\lib\\site-packages (from torch>=1.8.*->pytorch-lightning==1.6.1->ratsnlp) (2.8.4)\n",
      "Collecting lightning-utilities>=0.8.0\n",
      "  Using cached lightning_utilities-0.11.3.post0-py3-none-any.whl (26 kB)\n",
      "Collecting aiosignal>=1.1.2\n",
      "  Using cached aiosignal-1.3.1-py3-none-any.whl (7.6 kB)\n",
      "Collecting yarl<2.0,>=1.0\n",
      "  Using cached yarl-1.9.4-cp39-cp39-win_amd64.whl (76 kB)\n",
      "Requirement already satisfied: multidict<7.0,>=4.5 in c:\\users\\ys\\anaconda3\\lib\\site-packages (from aiohttp!=4.0.0a0,!=4.0.0a1->fsspec[http]!=2021.06.0,>=2021.05.0->pytorch-lightning==1.6.1->ratsnlp) (6.0.5)\n",
      "Requirement already satisfied: attrs>=17.3.0 in c:\\users\\ys\\anaconda3\\lib\\site-packages (from aiohttp!=4.0.0a0,!=4.0.0a1->fsspec[http]!=2021.06.0,>=2021.05.0->pytorch-lightning==1.6.1->ratsnlp) (23.2.0)\n",
      "Collecting frozenlist>=1.1.1\n",
      "  Using cached frozenlist-1.4.1-cp39-cp39-win_amd64.whl (50 kB)\n",
      "Collecting async-timeout<5.0,>=4.0\n",
      "  Using cached async_timeout-4.0.3-py3-none-any.whl (5.7 kB)\n",
      "Requirement already satisfied: pyasn1-modules>=0.2.1 in c:\\users\\ys\\anaconda3\\lib\\site-packages (from google-auth<3,>=1.6.3->tensorboard>=2.2.0->pytorch-lightning==1.6.1->ratsnlp) (0.2.8)\n",
      "Requirement already satisfied: rsa<5,>=3.1.4 in c:\\users\\ys\\anaconda3\\lib\\site-packages (from google-auth<3,>=1.6.3->tensorboard>=2.2.0->pytorch-lightning==1.6.1->ratsnlp) (4.9)\n",
      "Requirement already satisfied: cachetools<6.0,>=2.0.0 in c:\\users\\ys\\anaconda3\\lib\\site-packages (from google-auth<3,>=1.6.3->tensorboard>=2.2.0->pytorch-lightning==1.6.1->ratsnlp) (5.3.2)\n",
      "Requirement already satisfied: requests-oauthlib>=0.7.0 in c:\\users\\ys\\anaconda3\\lib\\site-packages (from google-auth-oauthlib<1.1,>=0.5->tensorboard>=2.2.0->pytorch-lightning==1.6.1->ratsnlp) (1.3.1)\n",
      "Requirement already satisfied: mpmath>=0.19 in c:\\users\\ys\\anaconda3\\lib\\site-packages (from sympy->torch>=1.8.*->pytorch-lightning==1.6.1->ratsnlp) (1.2.1)\n",
      "Requirement already satisfied: pyasn1<0.5.0,>=0.4.6 in c:\\users\\ys\\anaconda3\\lib\\site-packages (from pyasn1-modules>=0.2.1->google-auth<3,>=1.6.3->tensorboard>=2.2.0->pytorch-lightning==1.6.1->ratsnlp) (0.4.8)\n",
      "Requirement already satisfied: oauthlib>=3.0.0 in c:\\users\\ys\\anaconda3\\lib\\site-packages (from requests-oauthlib>=0.7.0->google-auth-oauthlib<1.1,>=0.5->tensorboard>=2.2.0->pytorch-lightning==1.6.1->ratsnlp) (3.2.2)\n",
      "Installing collected packages: tokenizers, yarl, Werkzeug, Jinja2, itsdangerous, frozenlist, click, blinker, async-timeout, lightning-utilities, flask, aiosignal, transformers, torchmetrics, flask-ngrok, flask-cors, aiohttp, pytorch-lightning, ratsnlp\n",
      "  Attempting uninstall: tokenizers\n",
      "    Found existing installation: tokenizers 0.19.1\n",
      "    Uninstalling tokenizers-0.19.1:\n",
      "      Successfully uninstalled tokenizers-0.19.1\n",
      "  Attempting uninstall: Werkzeug\n",
      "    Found existing installation: Werkzeug 2.0.3\n",
      "    Uninstalling Werkzeug-2.0.3:\n",
      "      Successfully uninstalled Werkzeug-2.0.3\n",
      "  Attempting uninstall: Jinja2\n",
      "    Found existing installation: Jinja2 2.11.3\n",
      "    Uninstalling Jinja2-2.11.3:\n",
      "      Successfully uninstalled Jinja2-2.11.3\n",
      "  Attempting uninstall: itsdangerous\n",
      "    Found existing installation: itsdangerous 2.0.1\n",
      "    Uninstalling itsdangerous-2.0.1:\n",
      "      Successfully uninstalled itsdangerous-2.0.1\n",
      "  Attempting uninstall: click\n",
      "    Found existing installation: click 7.1.2\n",
      "    Uninstalling click-7.1.2:\n",
      "      Successfully uninstalled click-7.1.2\n",
      "  Attempting uninstall: flask\n",
      "    Found existing installation: Flask 1.1.2\n",
      "    Uninstalling Flask-1.1.2:\n",
      "      Successfully uninstalled Flask-1.1.2\n",
      "Successfully installed Jinja2-3.1.4 Werkzeug-3.0.3 aiohttp-3.9.5 aiosignal-1.3.1 async-timeout-4.0.3 blinker-1.8.2 click-8.1.7 flask-3.0.3 flask-cors-4.0.1 flask-ngrok-0.0.25 frozenlist-1.4.1 itsdangerous-2.2.0 lightning-utilities-0.11.3.post0 pytorch-lightning-1.6.1 ratsnlp-1.0.53 tokenizers-0.13.3 torchmetrics-1.4.0.post0 transformers-4.28.1 yarl-1.9.4\n"
     ]
    },
    {
     "name": "stderr",
     "output_type": "stream",
     "text": [
      "WARNING: Ignoring invalid distribution -illow (c:\\users\\ys\\anaconda3\\lib\\site-packages)\n",
      "WARNING: Ignoring invalid distribution -illow (c:\\users\\ys\\anaconda3\\lib\\site-packages)\n",
      "WARNING: Ignoring invalid distribution -illow (c:\\users\\ys\\anaconda3\\lib\\site-packages)\n",
      "    WARNING: Ignoring invalid distribution -illow (c:\\users\\ys\\anaconda3\\lib\\site-packages)\n",
      "    WARNING: Ignoring invalid distribution -illow (c:\\users\\ys\\anaconda3\\lib\\site-packages)\n",
      "    WARNING: Ignoring invalid distribution -illow (c:\\users\\ys\\anaconda3\\lib\\site-packages)\n",
      "    WARNING: Ignoring invalid distribution -illow (c:\\users\\ys\\anaconda3\\lib\\site-packages)\n",
      "    WARNING: Ignoring invalid distribution -illow (c:\\users\\ys\\anaconda3\\lib\\site-packages)\n",
      "    WARNING: Ignoring invalid distribution -illow (c:\\users\\ys\\anaconda3\\lib\\site-packages)\n",
      "WARNING: Ignoring invalid distribution -illow (c:\\users\\ys\\anaconda3\\lib\\site-packages)\n",
      "WARNING: Ignoring invalid distribution -illow (c:\\users\\ys\\anaconda3\\lib\\site-packages)\n",
      "WARNING: Ignoring invalid distribution -illow (c:\\users\\ys\\anaconda3\\lib\\site-packages)\n",
      "WARNING: Ignoring invalid distribution -illow (c:\\users\\ys\\anaconda3\\lib\\site-packages)\n",
      "WARNING: Ignoring invalid distribution -illow (c:\\users\\ys\\anaconda3\\lib\\site-packages)\n",
      "WARNING: Ignoring invalid distribution -illow (c:\\users\\ys\\anaconda3\\lib\\site-packages)\n",
      "WARNING: Ignoring invalid distribution -illow (c:\\users\\ys\\anaconda3\\lib\\site-packages)\n",
      "WARNING: Ignoring invalid distribution -illow (c:\\users\\ys\\anaconda3\\lib\\site-packages)\n",
      "WARNING: Ignoring invalid distribution -illow (c:\\users\\ys\\anaconda3\\lib\\site-packages)\n",
      "WARNING: Ignoring invalid distribution -illow (c:\\users\\ys\\anaconda3\\lib\\site-packages)\n",
      "WARNING: Ignoring invalid distribution -illow (c:\\users\\ys\\anaconda3\\lib\\site-packages)\n",
      "WARNING: Ignoring invalid distribution -illow (c:\\users\\ys\\anaconda3\\lib\\site-packages)\n",
      "WARNING: Ignoring invalid distribution -illow (c:\\users\\ys\\anaconda3\\lib\\site-packages)\n",
      "WARNING: Ignoring invalid distribution -illow (c:\\users\\ys\\anaconda3\\lib\\site-packages)\n",
      "WARNING: Ignoring invalid distribution -illow (c:\\users\\ys\\anaconda3\\lib\\site-packages)\n",
      "WARNING: Ignoring invalid distribution -illow (c:\\users\\ys\\anaconda3\\lib\\site-packages)\n",
      "WARNING: Ignoring invalid distribution -illow (c:\\users\\ys\\anaconda3\\lib\\site-packages)\n",
      "WARNING: Ignoring invalid distribution -illow (c:\\users\\ys\\anaconda3\\lib\\site-packages)\n",
      "WARNING: Ignoring invalid distribution -illow (c:\\users\\ys\\anaconda3\\lib\\site-packages)\n",
      "ERROR: pip's dependency resolver does not currently take into account all the packages that are installed. This behaviour is the source of the following dependency conflicts.\n",
      "chicken-dinner 0.11.0 requires click<8.0,>=7.0, but you have click 8.1.7 which is incompatible.\n",
      "WARNING: Ignoring invalid distribution -illow (c:\\users\\ys\\anaconda3\\lib\\site-packages)\n",
      "WARNING: Ignoring invalid distribution -illow (c:\\users\\ys\\anaconda3\\lib\\site-packages)\n",
      "WARNING: Ignoring invalid distribution -illow (c:\\users\\ys\\anaconda3\\lib\\site-packages)\n"
     ]
    }
   ],
   "source": [
    "!pip install ratsnlp"
   ]
  },
  {
   "cell_type": "code",
   "execution_count": 23,
   "id": "c081b937",
   "metadata": {},
   "outputs": [],
   "source": [
    "from transformers import GPT2Tokenizer\n",
    "tokenizer_gpt = GPT2Tokenizer.from_pretrained(\"nlpbook/bbpe\")\n",
    "tokenizer_gpt.pad_token = \"[PAD]\""
   ]
  },
  {
   "cell_type": "code",
   "execution_count": 40,
   "id": "dfa7aa70",
   "metadata": {},
   "outputs": [],
   "source": [
    "sentences = [\n",
    "    \"아 더빙..진짜 짜증나네요 목소리\",\n",
    "    \"흠...포스터보고 초딩영화줄..오버연기조차 가볍지 않구나\",\n",
    "    \"별루 였다..\",\n",
    "]\n",
    "\n",
    "tokenized_sentences = [tokenizer_gpt.tokenize(sentence) for sentence in sentences]"
   ]
  },
  {
   "cell_type": "code",
   "execution_count": 41,
   "id": "8dbb80c8",
   "metadata": {},
   "outputs": [],
   "source": [
    "batch_inputs = tokenizer_gpt(\n",
    "    sentences,\n",
    "    padding=\"max_length\", # 문장의 최대 길이에 맞춰 패딩\n",
    "    max_length=12, # 문장의 토큰 기준 최대 길이\n",
    "    truncation=True # 문장 잘림 허용 옵션 ( 이 옵션으로 아래의 결과값)\n",
    ")"
   ]
  },
  {
   "cell_type": "code",
   "execution_count": 42,
   "id": "1ca6f452",
   "metadata": {},
   "outputs": [
    {
     "data": {
      "text/plain": [
       "[[335, 2339, 264, 664, 4056, 465, 3809, 0, 0, 0, 0, 0],\n",
       " [3694, 337, 2877, 759, 2884, 357, 807, 264, 9876, 876, 2961, 7293],\n",
       " [4958, 452, 3654, 264, 0, 0, 0, 0, 0, 0, 0, 0]]"
      ]
     },
     "execution_count": 42,
     "metadata": {},
     "output_type": "execute_result"
    }
   ],
   "source": [
    "batch_inputs[\"input_ids\"] # 모든 문장의 길이 (토큰 수) 가 12로 맞춰짐"
   ]
  },
  {
   "cell_type": "code",
   "execution_count": 43,
   "id": "2666b621",
   "metadata": {},
   "outputs": [
    {
     "data": {
      "text/plain": [
       "[[1, 1, 1, 1, 1, 1, 1, 0, 0, 0, 0, 0],\n",
       " [1, 1, 1, 1, 1, 1, 1, 1, 1, 1, 1, 1],\n",
       " [1, 1, 1, 1, 0, 0, 0, 0, 0, 0, 0, 0]]"
      ]
     },
     "execution_count": 43,
     "metadata": {},
     "output_type": "execute_result"
    }
   ],
   "source": [
    "batch_inputs[\"attention_mask\"] # 1 = 일반 토큰 0 = 패딩 토큰"
   ]
  },
  {
   "cell_type": "code",
   "execution_count": null,
   "id": "20c54e05",
   "metadata": {},
   "outputs": [],
   "source": [
    "!"
   ]
  },
  {
   "cell_type": "code",
   "execution_count": 47,
   "id": "6ed10b5d",
   "metadata": {},
   "outputs": [],
   "source": [
    "# BERT 입력값 만들기\n",
    "\n",
    "from transformers import BertTokenizer\n",
    "tokenizer_bert = BertTokenizer.from_pretrained(\n",
    "    \"nlpbook/wordpiece\",\n",
    "    do_lower_case = False,\n",
    ")"
   ]
  },
  {
   "cell_type": "code",
   "execution_count": 48,
   "id": "cccd20ea",
   "metadata": {},
   "outputs": [],
   "source": [
    "sentences = [\n",
    "    \"아 더빙..진짜 짜증나네요 목소리\",\n",
    "    \"흠...포스터보고 초딩영화줄..오버연기조차 가볍지 않구나\",\n",
    "    \"별루 였다..\",\n",
    "]\n",
    "\n",
    "tokenized_sentences = [tokenizer_bert.tokenize(sentence) for sentence in sentences]"
   ]
  },
  {
   "cell_type": "code",
   "execution_count": 49,
   "id": "67ad7b6e",
   "metadata": {},
   "outputs": [],
   "source": [
    "batch_inputs = tokenizer_bert(\n",
    "    sentences,\n",
    "    padding=\"max_length\",\n",
    "    max_length = 12,\n",
    "    truncation=True,\n",
    ")"
   ]
  },
  {
   "cell_type": "code",
   "execution_count": 50,
   "id": "ab708a1a",
   "metadata": {},
   "outputs": [
    {
     "data": {
      "text/plain": [
       "[[2, 621, 2631, 16, 16, 1993, 3678, 1990, 3323, 3, 0, 0],\n",
       " [2, 997, 16, 16, 16, 2609, 2045, 2796, 1981, 1294, 16, 3],\n",
       " [2, 3274, 9508, 16, 16, 3, 0, 0, 0, 0, 0, 0]]"
      ]
     },
     "execution_count": 50,
     "metadata": {},
     "output_type": "execute_result"
    }
   ],
   "source": [
    "batch_inputs[\"input_ids\"]"
   ]
  }
 ],
 "metadata": {
  "kernelspec": {
   "display_name": "Python 3 (ipykernel)",
   "language": "python",
   "name": "python3"
  },
  "language_info": {
   "codemirror_mode": {
    "name": "ipython",
    "version": 3
   },
   "file_extension": ".py",
   "mimetype": "text/x-python",
   "name": "python",
   "nbconvert_exporter": "python",
   "pygments_lexer": "ipython3",
   "version": "3.9.13"
  }
 },
 "nbformat": 4,
 "nbformat_minor": 5
}
