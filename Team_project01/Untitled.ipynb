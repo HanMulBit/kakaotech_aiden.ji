{
 "cells": [
  {
   "cell_type": "code",
   "execution_count": 8,
   "id": "9ddec0d3",
   "metadata": {},
   "outputs": [
    {
     "name": "stdout",
     "output_type": "stream",
     "text": [
      "데이터를 가져오지 못했습니다.\n"
     ]
    }
   ],
   "source": [
    "import requests\n",
    "\n",
    "def get_food_nutrient_info(api_key, food_name):\n",
    "    url = \"http://apis.data.go.kr/1471000/FoodNtrCpntDbInfo\"\n",
    "    params = {\n",
    "        'apiKey': api_key,\n",
    "        'desc_kor': food_name\n",
    "    }\n",
    "    \n",
    "    response = requests.get(url, params=params)\n",
    "    \n",
    "    if response.status_code == 200:\n",
    "        return response.json()\n",
    "    else:\n",
    "        return None\n",
    "\n",
    "# 사용 예제\n",
    "api_key = 'h1fQX1MPU2wYrCZ01jz51OjD83RIGRBMSRjxBOxtP0DYyJTTnVE30axj8qz9v7iIHwioonqCr%2FKjyoslk4zPAw%3D%3D'\n",
    "food_name = '냉면'  \n",
    "nutrient_info = get_food_nutrient_info(api_key, food_name)\n",
    "\n",
    "if nutrient_info:\n",
    "    print(nutrient_info)\n",
    "else:\n",
    "    print(\"데이터를 가져오지 못했습니다.\")"
   ]
  },
  {
   "cell_type": "code",
   "execution_count": 19,
   "id": "102f26f1",
   "metadata": {},
   "outputs": [
    {
     "name": "stdout",
     "output_type": "stream",
     "text": [
      "Error 500: <?xml version=\"1.0\" encoding=\"UTF-8\"?>\n",
      "<soapenv:Envelope xmlns:soapenv=\"http://schemas.xmlsoap.org/soap/envelope/\">\n",
      "    <soapenv:Body>\n",
      "        <soapenv:Fault>\n",
      "            <faultcode>soapenv:Server</faultcode>\n",
      "            <faultstring>Policy Falsified</faultstring>\n",
      "            <faultactor>http://apis.data.go.kr/1471000/FoodNtrCpntDbInfo?serviceKey=h1fQX1MPU2wYrCZ01jz51OjD83RIGRBMSRjxBOxtP0DYyJTTnVE30axj8qz9v7iIHwioonqCr%2FKjyoslk4zPAw%3D%3D&amp;desc_kor=%EC%82%AC%EA%B3%BC&amp;type=json&amp;numOfRows=10&amp;pageNo=1</faultactor>\n",
      "            <detail>\n",
      "                <l7:policyResult\n",
      "                    status=\"Service Not Found.  The request may have been sent to an invalid URL, or intended for an unsupported operation.\" xmlns:l7=\"http://www.layer7tech.com/ws/policy/fault\"/>\n",
      "            </detail>\n",
      "        </soapenv:Fault>\n",
      "    </soapenv:Body>\n",
      "</soapenv:Envelope>\n",
      "\n",
      "데이터를 가져오지 못했습니다.\n"
     ]
    }
   ],
   "source": [
    "import requests\n",
    "\n",
    "def get_food_nutrient_info(api_key, food_name):\n",
    "    # 실제 API 엔드포인트\n",
    "    url = \"http://apis.data.go.kr/1471000/FoodNtrCpntDbInfo\"\n",
    "    \n",
    "    # 파라미터 설정\n",
    "    params = {\n",
    "        'serviceKey': api_key,\n",
    "        'desc_kor': food_name,\n",
    "        'type': 'json',\n",
    "        'numOfRows': 10,\n",
    "        'pageNo': 1\n",
    "    }\n",
    "    \n",
    "    # 요청 보내기\n",
    "    response = requests.get(url, params=params)\n",
    "    \n",
    "    # 상태 코드와 응답 내용 확인\n",
    "    if response.status_code == 200:\n",
    "        return response.json()\n",
    "    else:\n",
    "        print(f\"Error {response.status_code}: {response.text}\")\n",
    "        return None\n",
    "\n",
    "# 사용 예제\n",
    "api_key = 'h1fQX1MPU2wYrCZ01jz51OjD83RIGRBMSRjxBOxtP0DYyJTTnVE30axj8qz9v7iIHwioonqCr/Kjyoslk4zPAw==' \n",
    "food_name = '사과'  # 예시로 '사과' 사용\n",
    "nutrient_info = get_food_nutrient_info(api_key, food_name)\n",
    "\n",
    "# 결과 출력\n",
    "if nutrient_info:\n",
    "    print(nutrient_info)\n",
    "else:\n",
    "    print(\"데이터를 가져오지 못했습니다.\")"
   ]
  },
  {
   "cell_type": "code",
   "execution_count": null,
   "id": "293e578a",
   "metadata": {},
   "outputs": [],
   "source": []
  }
 ],
 "metadata": {
  "kernelspec": {
   "display_name": "Python 3 (ipykernel)",
   "language": "python",
   "name": "python3"
  },
  "language_info": {
   "codemirror_mode": {
    "name": "ipython",
    "version": 3
   },
   "file_extension": ".py",
   "mimetype": "text/x-python",
   "name": "python",
   "nbconvert_exporter": "python",
   "pygments_lexer": "ipython3",
   "version": "3.9.13"
  }
 },
 "nbformat": 4,
 "nbformat_minor": 5
}
