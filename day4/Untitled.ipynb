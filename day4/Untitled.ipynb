{
 "cells": [
  {
   "cell_type": "code",
   "execution_count": 16,
   "id": "49f07815",
   "metadata": {},
   "outputs": [
    {
     "name": "stdout",
     "output_type": "stream",
     "text": [
      "Deque: deque(['banana', 'cherry', 'date'])\n",
      "Deque: deque(['banana', 'cherry'])\n"
     ]
    }
   ],
   "source": [
    "# 1\n",
    "\n",
    "# collections 모듈 예제\n",
    "from collections import deque, namedtuple, defaultdict, Counter\n",
    "\n",
    "# deque\n",
    "dq = deque([\"apple\", \"banana\", \"cherry\"])\n",
    "dq.append(\"date\") # 추가\n",
    "dq.popleft() # 좌측값 제거\n",
    "print(\"Deque:\", dq)\n",
    "dq.pop() # 우측값 제거\n",
    "print(\"Deque:\", dq)"
   ]
  },
  {
   "cell_type": "code",
   "execution_count": 12,
   "id": "48de59b0",
   "metadata": {},
   "outputs": [
    {
     "name": "stdout",
     "output_type": "stream",
     "text": [
      "NamedTuple: Fruit(name='apple', color='red')\n"
     ]
    }
   ],
   "source": [
    "# namedtuple\n",
    "Fruit = namedtuple('Fruit', 'name color')\n",
    "apple = Fruit(name=\"apple\", color=\"red\")\n",
    "print(\"NamedTuple:\", apple)"
   ]
  },
  {
   "cell_type": "code",
   "execution_count": 13,
   "id": "e612fba6",
   "metadata": {},
   "outputs": [
    {
     "name": "stdout",
     "output_type": "stream",
     "text": [
      "DefaultDict: defaultdict(<class 'int'>, {'apple': 1})\n"
     ]
    }
   ],
   "source": [
    "# defaultdict\n",
    "dd = defaultdict(int)\n",
    "dd[\"apple\"] += 1\n",
    "print(\"DefaultDict:\", dd)"
   ]
  },
  {
   "cell_type": "code",
   "execution_count": 14,
   "id": "6d4e5adc",
   "metadata": {},
   "outputs": [
    {
     "name": "stdout",
     "output_type": "stream",
     "text": [
      "Counter: Counter({'banana': 3, 'apple': 2, 'cherry': 1})\n"
     ]
    }
   ],
   "source": [
    "# Counter\n",
    "cnt = Counter([\"apple\", \"banana\", \"apple\", \"cherry\", \"banana\", \"banana\"])\n",
    "print(\"Counter:\", cnt)"
   ]
  },
  {
   "cell_type": "code",
   "execution_count": null,
   "id": "590ee686",
   "metadata": {},
   "outputs": [],
   "source": [
    "#2 리스트\n",
    "\n",
    "#리스트의 제곱 값 구하기\n",
    "numbers = [1, 2, 3, 4, 5]\n",
    "squared_numbers = [x*2 for x in numbers]\n",
    "print(\"제곱된 숫자들:\", squared_numbers)"
   ]
  },
  {
   "cell_type": "code",
   "execution_count": 17,
   "id": "c7f49bc5",
   "metadata": {},
   "outputs": [
    {
     "name": "stdout",
     "output_type": "stream",
     "text": [
      "제곱된 딕셔너리: {1: 2, 2: 4, 3: 6, 4: 8, 5: 10}\n"
     ]
    }
   ],
   "source": [
    "# 조건을 포함한 딕셔너리 컴프리헨션\n",
    "numbers = [1, 2, 3, 4, 5]\n",
    "\n",
    "squared_dict = {x: x*2 for x in numbers}\n",
    "\n",
    "print(\"제곱된 딕셔너리:\", squared_dict)"
   ]
  },
  {
   "cell_type": "code",
   "execution_count": 18,
   "id": "fa1c3485",
   "metadata": {},
   "outputs": [
    {
     "name": "stdout",
     "output_type": "stream",
     "text": [
      "제곱된 집합: {2, 4, 6, 8, 10}\n"
     ]
    }
   ],
   "source": [
    "# 집합 컴프리헨션\n",
    "\n",
    "numbers = [1, 2, 3, 4, 5]\n",
    "\n",
    "squared_set = {x*2 for x in numbers}\n",
    "\n",
    "print(\"제곱된 집합:\", squared_set)"
   ]
  },
  {
   "cell_type": "code",
   "execution_count": 20,
   "id": "9c639445",
   "metadata": {},
   "outputs": [
    {
     "name": "stderr",
     "output_type": "stream",
     "text": [
      "2024-07-05 13:31:21,807 - __main__ - INFO - Division successful\n",
      "2024-07-05 13:31:21,807 - __main__ - ERROR - Division by zero error\n"
     ]
    },
    {
     "name": "stdout",
     "output_type": "stream",
     "text": [
      "Division successful\n",
      " 5.0\n",
      "Division by zero error\n",
      " None\n"
     ]
    }
   ],
   "source": [
    "#3 로깅\n",
    "\n",
    "\n",
    "import logging\n",
    "logging.basicConfig(level=logging.DEBUG,\n",
    "                    format='%(asctime)s - %(name)s - %(levelname)s - %(message)s')\n",
    "# 로깅 객체\n",
    "logger = logging.getLogger(__name__)\n",
    "\n",
    "def divide(a, b):\n",
    "    try:\n",
    "        result = a / b\n",
    "        logger.info(\"Division successful\")\n",
    "        return result\n",
    "    except ZeroDivisionError:\n",
    "        logger.error(\"Division by zero error\")\n",
    "        return None\n",
    "\n",
    "# 로깅 테스트\n",
    "print(\"Division successful\\n\", divide(10, 2))\n",
    "print(\"Division by zero error\\n\", divide(10, 0))"
   ]
  },
  {
   "cell_type": "code",
   "execution_count": 22,
   "id": "efd1f79b",
   "metadata": {},
   "outputs": [
    {
     "name": "stdout",
     "output_type": "stream",
     "text": [
      "이메일: ['support@example.com', 'sales@example.com']\n",
      "태그 제거 후 텍스트: Hello, World!\n"
     ]
    }
   ],
   "source": [
    "# 4 정규 표현식\n",
    "import re\n",
    "\n",
    "# 이메일 추출\n",
    "text = \"Contact us at support@example.com or sales@example.com\"\n",
    "pattern = r\"\\b[A-Za-z0-9._%+-]+@[A-Za-z0-9.-]+\\.[A-Z|a-z]{2,7}\\b\" # b는 스페이스\n",
    "matches = re.findall(pattern, text)\n",
    "print(\"이메일:\", matches)\n",
    "\n",
    "# HTML 태그 제거\n",
    "html = \"<p>Hello, <b>World!</b></p>\"\n",
    "pattern = r\"<.*?>\"\n",
    "clean_text = re.sub(pattern, \"\", html)\n",
    "print(\"태그 제거 후 텍스트:\", clean_text)"
   ]
  },
  {
   "cell_type": "code",
   "execution_count": null,
   "id": "4ad41161",
   "metadata": {},
   "outputs": [],
   "source": [
    "#5 멀티스레딩과 멀티프로세싱\n",
    "\n",
    "import threading\n",
    "import time\n",
    "\n",
    "\n",
    "A  = 0\n",
    "# 숫자를 출력하는 함수\n",
    "def print_numbers():\n",
    "    global A\n",
    "    for i in range(5):\n",
    "        print(\"i:\",i)\n",
    "        print(\"공통A: \", A)\n",
    "        A+=1\n",
    "        time.sleep(1)"
   ]
  },
  {
   "cell_type": "code",
   "execution_count": 23,
   "id": "259ffc42",
   "metadata": {},
   "outputs": [
    {
     "name": "stdout",
     "output_type": "stream",
     "text": [
      "i: 0\n",
      "공통A:  0\n",
      "i: 0\n",
      "공통A:  1\n",
      "i:i: 1\n",
      "공통A:  2\n",
      " 1\n",
      "공통A:  3\n",
      "i:i: 2\n",
      "공통A:  4\n",
      " 2\n",
      "공통A:  5\n",
      "i:i: 3\n",
      "공통A:  6\n",
      " 3\n",
      "공통A:  7\n",
      "i: 4\n",
      "공통A:  8\n",
      "i: 4\n",
      "공통A:  9\n"
     ]
    }
   ],
   "source": [
    "# 두 개의 스레드 생성 및 시작 각각 실행할 함수 상단에\n",
    "thread1 = threading.Thread(target=print_numbers) \n",
    "thread2 = threading.Thread(target=print_numbers)\n",
    "thread1.start()\n",
    "thread2.start()\n",
    "thread1.join()\n",
    "thread2.join()"
   ]
  },
  {
   "cell_type": "code",
   "execution_count": 24,
   "id": "82033b6d",
   "metadata": {},
   "outputs": [],
   "source": [
    "import multiprocessing\n",
    "import time\n",
    "\n",
    "\n",
    "A  = 0\n",
    "# 숫자를 출력하는 함수\n",
    "def print_numbers():\n",
    "    global A\n",
    "    for i in range(5):\n",
    "        print(\"i:\",i)\n",
    "        print(\"공통A: \", A)\n",
    "        A+=1\n",
    "        time.sleep(1)\n",
    "\n",
    "# 두 개의 프로세스 생성 및 시작\n",
    "process1 = multiprocessing.Process(target=print_numbers)\n",
    "process2 = multiprocessing.Process(target=print_numbers)\n",
    "process1.start()\n",
    "process2.start()\n",
    "process1.join()\n",
    "process2.join()"
   ]
  }
 ],
 "metadata": {
  "kernelspec": {
   "display_name": "Python 3 (ipykernel)",
   "language": "python",
   "name": "python3"
  },
  "language_info": {
   "codemirror_mode": {
    "name": "ipython",
    "version": 3
   },
   "file_extension": ".py",
   "mimetype": "text/x-python",
   "name": "python",
   "nbconvert_exporter": "python",
   "pygments_lexer": "ipython3",
   "version": "3.9.13"
  }
 },
 "nbformat": 4,
 "nbformat_minor": 5
}
