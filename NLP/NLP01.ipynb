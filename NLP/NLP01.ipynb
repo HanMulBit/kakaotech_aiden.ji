{
 "cells": [
  {
   "cell_type": "code",
   "execution_count": 1,
   "id": "9e744d6c",
   "metadata": {},
   "outputs": [
    {
     "name": "stdout",
     "output_type": "stream",
     "text": [
      "<class 'pandas.core.frame.DataFrame'>\n",
      "RangeIndex: 4710 entries, 0 to 4709\n",
      "Data columns (total 7 columns):\n",
      " #   Column              Non-Null Count  Dtype  \n",
      "---  ------              --------------  -----  \n",
      " 0   Unnamed: 0          4710 non-null   int64  \n",
      " 1   Game Title          4710 non-null   object \n",
      " 2   Date Posted         4710 non-null   object \n",
      " 3   Review Text         4710 non-null   object \n",
      " 4   Review Judgment     4710 non-null   object \n",
      " 5   Recommended or Not  4710 non-null   object \n",
      " 6   Hours on Record     4026 non-null   float64\n",
      "dtypes: float64(1), int64(1), object(5)\n",
      "memory usage: 257.7+ KB\n",
      "None\n"
     ]
    }
   ],
   "source": [
    "import pandas as pd\n",
    "\n",
    "steam = pd.read_csv('steam_reviews.csv',encoding='utf-8')\n",
    "\n",
    "print(steam.info())"
   ]
  },
  {
   "cell_type": "code",
   "execution_count": null,
   "id": "440e671e",
   "metadata": {},
   "outputs": [],
   "source": []
  }
 ],
 "metadata": {
  "kernelspec": {
   "display_name": "Python 3 (ipykernel)",
   "language": "python",
   "name": "python3"
  },
  "language_info": {
   "codemirror_mode": {
    "name": "ipython",
    "version": 3
   },
   "file_extension": ".py",
   "mimetype": "text/x-python",
   "name": "python",
   "nbconvert_exporter": "python",
   "pygments_lexer": "ipython3",
   "version": "3.9.13"
  }
 },
 "nbformat": 4,
 "nbformat_minor": 5
}
