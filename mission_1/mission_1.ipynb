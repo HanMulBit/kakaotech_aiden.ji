{
 "cells": [
  {
   "cell_type": "code",
   "execution_count": 1,
   "id": "3396bd75",
   "metadata": {
    "scrolled": true
   },
   "outputs": [
    {
     "name": "stdout",
     "output_type": "stream",
     "text": [
      "Requirement already satisfied: gdown in c:\\users\\ys\\anaconda3\\lib\\site-packages (5.2.0)\n",
      "Requirement already satisfied: beautifulsoup4 in c:\\users\\ys\\anaconda3\\lib\\site-packages (from gdown) (4.12.3)\n",
      "Requirement already satisfied: filelock in c:\\users\\ys\\anaconda3\\lib\\site-packages (from gdown) (3.13.1)\n",
      "Requirement already satisfied: requests[socks] in c:\\users\\ys\\anaconda3\\lib\\site-packages (from gdown) (2.32.2)\n",
      "Requirement already satisfied: tqdm in c:\\users\\ys\\anaconda3\\lib\\site-packages (from gdown) (4.66.4)\n",
      "Requirement already satisfied: soupsieve>1.2 in c:\\users\\ys\\anaconda3\\lib\\site-packages (from beautifulsoup4->gdown) (2.5)\n",
      "Requirement already satisfied: charset-normalizer<4,>=2 in c:\\users\\ys\\anaconda3\\lib\\site-packages (from requests[socks]->gdown) (2.0.4)\n",
      "Requirement already satisfied: idna<4,>=2.5 in c:\\users\\ys\\anaconda3\\lib\\site-packages (from requests[socks]->gdown) (3.7)\n",
      "Requirement already satisfied: urllib3<3,>=1.21.1 in c:\\users\\ys\\anaconda3\\lib\\site-packages (from requests[socks]->gdown) (2.2.2)\n",
      "Requirement already satisfied: certifi>=2017.4.17 in c:\\users\\ys\\anaconda3\\lib\\site-packages (from requests[socks]->gdown) (2024.6.2)\n",
      "Requirement already satisfied: PySocks!=1.5.7,>=1.5.6 in c:\\users\\ys\\anaconda3\\lib\\site-packages (from requests[socks]->gdown) (1.7.1)\n",
      "Requirement already satisfied: colorama in c:\\users\\ys\\anaconda3\\lib\\site-packages (from tqdm->gdown) (0.4.6)\n"
     ]
    }
   ],
   "source": [
    "!pip install gdown"
   ]
  },
  {
   "cell_type": "code",
   "execution_count": 2,
   "id": "a7981c4f",
   "metadata": {},
   "outputs": [
    {
     "name": "stderr",
     "output_type": "stream",
     "text": [
      "Downloading...\n",
      "From: https://bit.ly/3pK7iuu\n",
      "To: C:\\Users\\Ys\\workspace\\python_kakao\\kakaotech_aiden.ji\\mission_1\\ns_book7.csv\n",
      "100%|█████████████████████████████████████████████████████████████████████████████| 53.8M/53.8M [00:08<00:00, 6.43MB/s]\n"
     ]
    },
    {
     "data": {
      "text/plain": [
       "'ns_book7.csv'"
      ]
     },
     "execution_count": 2,
     "metadata": {},
     "output_type": "execute_result"
    }
   ],
   "source": [
    "import gdown\n",
    "\n",
    "gdown.download('https://bit.ly/3pK7iuu','ns_book7.csv',quiet=False)"
   ]
  },
  {
   "cell_type": "code",
   "execution_count": 3,
   "id": "cf59396f",
   "metadata": {},
   "outputs": [
    {
     "data": {
      "text/html": [
       "<div>\n",
       "<style scoped>\n",
       "    .dataframe tbody tr th:only-of-type {\n",
       "        vertical-align: middle;\n",
       "    }\n",
       "\n",
       "    .dataframe tbody tr th {\n",
       "        vertical-align: top;\n",
       "    }\n",
       "\n",
       "    .dataframe thead th {\n",
       "        text-align: right;\n",
       "    }\n",
       "</style>\n",
       "<table border=\"1\" class=\"dataframe\">\n",
       "  <thead>\n",
       "    <tr style=\"text-align: right;\">\n",
       "      <th></th>\n",
       "      <th>번호</th>\n",
       "      <th>도서명</th>\n",
       "      <th>저자</th>\n",
       "      <th>출판사</th>\n",
       "      <th>발행년도</th>\n",
       "      <th>ISBN</th>\n",
       "      <th>세트 ISBN</th>\n",
       "      <th>부가기호</th>\n",
       "      <th>권</th>\n",
       "      <th>주제분류번호</th>\n",
       "      <th>도서권수</th>\n",
       "      <th>대출건수</th>\n",
       "      <th>등록일자</th>\n",
       "    </tr>\n",
       "  </thead>\n",
       "  <tbody>\n",
       "    <tr>\n",
       "      <th>0</th>\n",
       "      <td>1</td>\n",
       "      <td>인공지능과 흙</td>\n",
       "      <td>김동훈 지음</td>\n",
       "      <td>민음사</td>\n",
       "      <td>2021</td>\n",
       "      <td>9788937444319</td>\n",
       "      <td>NaN</td>\n",
       "      <td>NaN</td>\n",
       "      <td>NaN</td>\n",
       "      <td>NaN</td>\n",
       "      <td>1</td>\n",
       "      <td>0</td>\n",
       "      <td>2021-03-19</td>\n",
       "    </tr>\n",
       "    <tr>\n",
       "      <th>1</th>\n",
       "      <td>2</td>\n",
       "      <td>가짜 행복 권하는 사회</td>\n",
       "      <td>김태형 지음</td>\n",
       "      <td>갈매나무</td>\n",
       "      <td>2021</td>\n",
       "      <td>9791190123969</td>\n",
       "      <td>NaN</td>\n",
       "      <td>NaN</td>\n",
       "      <td>NaN</td>\n",
       "      <td>NaN</td>\n",
       "      <td>1</td>\n",
       "      <td>0</td>\n",
       "      <td>2021-03-19</td>\n",
       "    </tr>\n",
       "    <tr>\n",
       "      <th>2</th>\n",
       "      <td>3</td>\n",
       "      <td>나도 한 문장 잘 쓰면 바랄 게 없겠네</td>\n",
       "      <td>김선영 지음</td>\n",
       "      <td>블랙피쉬</td>\n",
       "      <td>2021</td>\n",
       "      <td>9788968332982</td>\n",
       "      <td>NaN</td>\n",
       "      <td>NaN</td>\n",
       "      <td>NaN</td>\n",
       "      <td>NaN</td>\n",
       "      <td>1</td>\n",
       "      <td>0</td>\n",
       "      <td>2021-03-19</td>\n",
       "    </tr>\n",
       "    <tr>\n",
       "      <th>3</th>\n",
       "      <td>4</td>\n",
       "      <td>예루살렘 해변</td>\n",
       "      <td>이도 게펜 지음, 임재희 옮김</td>\n",
       "      <td>문학세계사</td>\n",
       "      <td>2021</td>\n",
       "      <td>9788970759906</td>\n",
       "      <td>NaN</td>\n",
       "      <td>NaN</td>\n",
       "      <td>NaN</td>\n",
       "      <td>NaN</td>\n",
       "      <td>1</td>\n",
       "      <td>0</td>\n",
       "      <td>2021-03-19</td>\n",
       "    </tr>\n",
       "    <tr>\n",
       "      <th>4</th>\n",
       "      <td>5</td>\n",
       "      <td>김성곤의 중국한시기행 : 장강·황하 편</td>\n",
       "      <td>김성곤 지음</td>\n",
       "      <td>김영사</td>\n",
       "      <td>2021</td>\n",
       "      <td>9788934990833</td>\n",
       "      <td>NaN</td>\n",
       "      <td>NaN</td>\n",
       "      <td>NaN</td>\n",
       "      <td>NaN</td>\n",
       "      <td>1</td>\n",
       "      <td>0</td>\n",
       "      <td>2021-03-19</td>\n",
       "    </tr>\n",
       "  </tbody>\n",
       "</table>\n",
       "</div>"
      ],
      "text/plain": [
       "   번호                    도서명                저자    출판사  발행년도           ISBN  \\\n",
       "0   1                인공지능과 흙            김동훈 지음    민음사  2021  9788937444319   \n",
       "1   2           가짜 행복 권하는 사회            김태형 지음   갈매나무  2021  9791190123969   \n",
       "2   3  나도 한 문장 잘 쓰면 바랄 게 없겠네            김선영 지음   블랙피쉬  2021  9788968332982   \n",
       "3   4                예루살렘 해변  이도 게펜 지음, 임재희 옮김  문학세계사  2021  9788970759906   \n",
       "4   5  김성곤의 중국한시기행 : 장강·황하 편            김성곤 지음    김영사  2021  9788934990833   \n",
       "\n",
       "  세트 ISBN 부가기호    권 주제분류번호  도서권수  대출건수        등록일자  \n",
       "0     NaN  NaN  NaN    NaN     1     0  2021-03-19  \n",
       "1     NaN  NaN  NaN    NaN     1     0  2021-03-19  \n",
       "2     NaN  NaN  NaN    NaN     1     0  2021-03-19  \n",
       "3     NaN  NaN  NaN    NaN     1     0  2021-03-19  \n",
       "4     NaN  NaN  NaN    NaN     1     0  2021-03-19  "
      ]
     },
     "execution_count": 3,
     "metadata": {},
     "output_type": "execute_result"
    }
   ],
   "source": [
    "import gdown\n",
    "import pandas as pd\n",
    "\n",
    "ns_book7 = pd.read_csv('ns_book7.csv',low_memory=False)\n",
    "ns_book7.head()"
   ]
  },
  {
   "cell_type": "code",
   "execution_count": 4,
   "id": "804eb129",
   "metadata": {},
   "outputs": [
    {
     "data": {
      "text/plain": [
       "발행년도\n",
       "2012    18601\n",
       "2014    17797\n",
       "2009    17611\n",
       "2011    17523\n",
       "2010    17503\n",
       "        ...  \n",
       "2650        1\n",
       "2108        1\n",
       "2104        1\n",
       "2560        1\n",
       "1947        1\n",
       "Name: count, Length: 87, dtype: int64"
      ]
     },
     "execution_count": 4,
     "metadata": {},
     "output_type": "execute_result"
    }
   ],
   "source": [
    "count_by_year = ns_book7['발행년도'].value_counts()\n",
    "count_by_year"
   ]
  },
  {
   "cell_type": "code",
   "execution_count": 5,
   "id": "1dfb342c",
   "metadata": {},
   "outputs": [
    {
     "data": {
      "text/plain": [
       "발행년도\n",
       "1947     1\n",
       "1948     1\n",
       "1949     1\n",
       "1952    11\n",
       "1954     1\n",
       "        ..\n",
       "2551     1\n",
       "2552     2\n",
       "2559     1\n",
       "2560     1\n",
       "2650     1\n",
       "Name: count, Length: 87, dtype: int64"
      ]
     },
     "execution_count": 5,
     "metadata": {},
     "output_type": "execute_result"
    }
   ],
   "source": [
    "count_by_year = count_by_year.sort_index()\n",
    "count_by_year"
   ]
  },
  {
   "cell_type": "code",
   "execution_count": 6,
   "id": "b96868fe",
   "metadata": {},
   "outputs": [
    {
     "data": {
      "text/plain": [
       "발행년도\n",
       "1947        1\n",
       "1948        1\n",
       "1949        1\n",
       "1952       11\n",
       "1954        1\n",
       "        ...  \n",
       "2020    11834\n",
       "2021     1255\n",
       "2025        1\n",
       "2028        1\n",
       "2030        1\n",
       "Name: count, Length: 68, dtype: int64"
      ]
     },
     "execution_count": 6,
     "metadata": {},
     "output_type": "execute_result"
    }
   ],
   "source": [
    "count_by_year = count_by_year[count_by_year.index <= 2030]\n",
    "count_by_year"
   ]
  },
  {
   "cell_type": "code",
   "execution_count": 7,
   "id": "cde660b2",
   "metadata": {
    "scrolled": true
   },
   "outputs": [
    {
     "data": {
      "text/plain": [
       "주제분류번호\n",
       "8     108643\n",
       "3      80767\n",
       "5      40916\n",
       "9      26375\n",
       "6      25070\n",
       "1      22647\n",
       "-1     16978\n",
       "7      15836\n",
       "4      13688\n",
       "2      13474\n",
       "0      12376\n",
       "Name: count, dtype: int64"
      ]
     },
     "execution_count": 7,
     "metadata": {},
     "output_type": "execute_result"
    }
   ],
   "source": [
    "import numpy as np\n",
    "\n",
    "def kdc_1st_char(no):\n",
    "    if no is np.nan:\n",
    "        return '-1'\n",
    "    else:\n",
    "        return no[0]\n",
    "\n",
    "    \n",
    "count_by_subject = ns_book7['주제분류번호'].apply(kdc_1st_char).value_counts()\n",
    "count_by_subject"
   ]
  },
  {
   "cell_type": "code",
   "execution_count": 10,
   "id": "071aeeff",
   "metadata": {},
   "outputs": [],
   "source": [
    "import matplotlib.pyplot as plt\n",
    "plt.rcParams['figure.dpi']=100"
   ]
  },
  {
   "cell_type": "code",
   "execution_count": 16,
   "id": "dcf33d9c-acac-403f-929f-9a859ee10f28",
   "metadata": {},
   "outputs": [],
   "source": [
    "import warnings\n",
    "warnings.filterwarnings('ignore')"
   ]
  },
  {
   "cell_type": "code",
   "execution_count": 19,
   "id": "a3e58dca-4598-494d-ab9e-3ce2be892532",
   "metadata": {},
   "outputs": [
    {
     "ename": "NameError",
     "evalue": "name 'xytext' is not defined",
     "output_type": "error",
     "traceback": [
      "\u001b[1;31m---------------------------------------------------------------------------\u001b[0m",
      "\u001b[1;31mNameError\u001b[0m                                 Traceback (most recent call last)",
      "Cell \u001b[1;32mIn[19], line 6\u001b[0m\n\u001b[0;32m      4\u001b[0m plt\u001b[38;5;241m.\u001b[39mylabel(\u001b[38;5;124m'\u001b[39m\u001b[38;5;124mnumber\u001b[39m\u001b[38;5;124m'\u001b[39m)\n\u001b[0;32m      5\u001b[0m \u001b[38;5;28;01mfor\u001b[39;00m idx, val \u001b[38;5;129;01min\u001b[39;00m count_by_subject\u001b[38;5;241m.\u001b[39mitems():\n\u001b[1;32m----> 6\u001b[0m     plt\u001b[38;5;241m.\u001b[39mannotate(val,(idx,val), xytext(\u001b[38;5;241m0\u001b[39m,\u001b[38;5;241m2\u001b[39m) , textcoords\u001b[38;5;241m=\u001b[39m\u001b[38;5;124m'\u001b[39m\u001b[38;5;124moffset points\u001b[39m\u001b[38;5;124m'\u001b[39m)\n\u001b[0;32m      7\u001b[0m plt\u001b[38;5;241m.\u001b[39mshow()\n",
      "\u001b[1;31mNameError\u001b[0m: name 'xytext' is not defined"
     ]
    },
    {
     "data": {
      "image/png": "[encoded data removed]",
      "text/plain": [
       "<Figure size 640x480 with 1 Axes>"
      ]
     },
     "metadata": {},
     "output_type": "display_data"
    }
   ],
   "source": [
    "plt.bar(count_by_subject.index,count_by_subject.values)\n",
    "plt.title('Books by subject')\n",
    "plt.xlabel('subject')\n",
    "plt.ylabel('number')\n",
    "for idx, val in count_by_subject.items():\n",
    "    plt.annotate(val,(idx,val), xytext(0,2) , textcoords='offset points')\n",
    "plt.show()"
   ]
  },
  {
   "cell_type": "code",
   "execution_count": null,
   "id": "b39f36b5-3112-48c4-8418-088bf1b5d62f",
   "metadata": {},
   "outputs": [],
   "source": []
  },
  {
   "cell_type": "code",
   "execution_count": null,
   "id": "ba8a96bf-bc32-4848-91ca-132e3a397228",
   "metadata": {},
   "outputs": [],
   "source": [
    "plt.scatter(ns_book7['번호'],ns_book7['대출건수'])\n",
    "plt.show()"
   ]
  },
  {
   "cell_type": "code",
   "execution_count": 49,
   "id": "58268f97",
   "metadata": {},
   "outputs": [
    {
     "data": {
      "text/plain": [
       "[<matplotlib.lines.Line2D at 0x23500efa460>]"
      ]
     },
     "execution_count": 49,
     "metadata": {},
     "output_type": "execute_result"
    },
    {
     "data": {
      "image/png": "[encoded data removed]",
      "text/plain": [
       "<Figure size 640x480 with 1 Axes>"
      ]
     },
     "metadata": {},
     "output_type": "display_data"
    }
   ],
   "source": [
    "plt.plot(count_by_year.index,count_by_year.values)"
   ]
  },
  {
   "cell_type": "code",
   "execution_count": 50,
   "id": "1a5f6c0c",
   "metadata": {},
   "outputs": [
    {
     "data": {
      "image/png": "[encoded data removed]",
      "text/plain": [
       "<Figure size 640x480 with 1 Axes>"
      ]
     },
     "metadata": {},
     "output_type": "display_data"
    }
   ],
   "source": [
    "plt.plot(count_by_year,marker='.',linestyle=':',color='red') \n",
    "# 실선 '-' 점선 '.' 쇄선 '-.' 파선 '--'\n",
    "plt.title('Books by year')\n",
    "plt.xlabel('year')\n",
    "plt.ylabel('number of books')\n",
    "plt.show()"
   ]
  },
  {
   "cell_type": "code",
   "execution_count": 51,
   "id": "675e786e",
   "metadata": {},
   "outputs": [
    {
     "data": {
      "text/plain": [
       "[<matplotlib.lines.Line2D at 0x23500fc6790>]"
      ]
     },
     "execution_count": 51,
     "metadata": {},
     "output_type": "execute_result"
    },
    {
     "data": {
      "image/png": "[encoded data removed]",
      "text/plain": [
       "<Figure size 640x480 with 1 Axes>"
      ]
     },
     "metadata": {},
     "output_type": "display_data"
    }
   ],
   "source": [
    "plt.plot(count_by_year,'.:r')\n",
    "# 위의 코드와 같은 문장"
   ]
  },
  {
   "cell_type": "code",
   "execution_count": 29,
   "id": "cfeb19ae",
   "metadata": {},
   "outputs": [
    {
     "data": {
      "text/html": [
       "<div>\n",
       "<style scoped>\n",
       "    .dataframe tbody tr th:only-of-type {\n",
       "        vertical-align: middle;\n",
       "    }\n",
       "\n",
       "    .dataframe tbody tr th {\n",
       "        vertical-align: top;\n",
       "    }\n",
       "\n",
       "    .dataframe thead th {\n",
       "        text-align: right;\n",
       "    }\n",
       "</style>\n",
       "<table border=\"1\" class=\"dataframe\">\n",
       "  <thead>\n",
       "    <tr style=\"text-align: right;\">\n",
       "      <th></th>\n",
       "      <th>시도명</th>\n",
       "      <th>시군구명</th>\n",
       "      <th>평균 체류시간</th>\n",
       "      <th>평균 숙박일수</th>\n",
       "    </tr>\n",
       "  </thead>\n",
       "  <tbody>\n",
       "    <tr>\n",
       "      <th>0</th>\n",
       "      <td>서울특별시</td>\n",
       "      <td>종로구</td>\n",
       "      <td>361.0</td>\n",
       "      <td>2.60</td>\n",
       "    </tr>\n",
       "    <tr>\n",
       "      <th>1</th>\n",
       "      <td>서울특별시</td>\n",
       "      <td>중구</td>\n",
       "      <td>285.0</td>\n",
       "      <td>2.59</td>\n",
       "    </tr>\n",
       "    <tr>\n",
       "      <th>2</th>\n",
       "      <td>서울특별시</td>\n",
       "      <td>용산구</td>\n",
       "      <td>441.0</td>\n",
       "      <td>2.66</td>\n",
       "    </tr>\n",
       "    <tr>\n",
       "      <th>3</th>\n",
       "      <td>서울특별시</td>\n",
       "      <td>성동구</td>\n",
       "      <td>829.0</td>\n",
       "      <td>2.89</td>\n",
       "    </tr>\n",
       "    <tr>\n",
       "      <th>4</th>\n",
       "      <td>서울특별시</td>\n",
       "      <td>광진구</td>\n",
       "      <td>833.0</td>\n",
       "      <td>2.83</td>\n",
       "    </tr>\n",
       "  </tbody>\n",
       "</table>\n",
       "</div>"
      ],
      "text/plain": [
       "     시도명 시군구명  평균 체류시간  평균 숙박일수\n",
       "0  서울특별시  종로구    361.0     2.60\n",
       "1  서울특별시   중구    285.0     2.59\n",
       "2  서울특별시  용산구    441.0     2.66\n",
       "3  서울특별시  성동구    829.0     2.89\n",
       "4  서울특별시  광진구    833.0     2.83"
      ]
     },
     "execution_count": 29,
     "metadata": {},
     "output_type": "execute_result"
    }
   ],
   "source": [
    "import pandas as pd\n",
    "\n",
    "visit = pd.read_csv(\"방문자 체류특성.csv\",encoding= 'cp949')\n",
    "visit.head()"
   ]
  },
  {
   "cell_type": "code",
   "execution_count": 34,
   "id": "73d21738",
   "metadata": {},
   "outputs": [
    {
     "data": {
      "text/plain": [
       "2.89    12\n",
       "2.95     9\n",
       "2.61     8\n",
       "2.74     7\n",
       "2.76     7\n",
       "        ..\n",
       "2.75     1\n",
       "3.04     1\n",
       "2.49     1\n",
       "3.07     1\n",
       "2.69     1\n",
       "Name: 평균 숙박일수, Length: 70, dtype: int64"
      ]
     },
     "execution_count": 34,
     "metadata": {},
     "output_type": "execute_result"
    }
   ],
   "source": [
    "count_by_day = visit['평균 숙박일수'].value_counts()\n",
    "count_by_day"
   ]
  },
  {
   "cell_type": "code",
   "execution_count": 35,
   "id": "cd49b778",
   "metadata": {},
   "outputs": [
    {
     "data": {
      "text/plain": [
       "911.0     3\n",
       "1350.0    2\n",
       "943.0     2\n",
       "788.0     2\n",
       "1239.0    2\n",
       "         ..\n",
       "780.0     1\n",
       "2216.0    1\n",
       "1332.0    1\n",
       "1530.0    1\n",
       "1245.0    1\n",
       "Name: 평균 체류시간, Length: 235, dtype: int64"
      ]
     },
     "execution_count": 35,
     "metadata": {},
     "output_type": "execute_result"
    }
   ],
   "source": [
    "count_by_hour = visit['평균 체류시간'].value_counts()\n",
    "count_by_hour"
   ]
  },
  {
   "cell_type": "code",
   "execution_count": 37,
   "id": "21df48fb",
   "metadata": {},
   "outputs": [
    {
     "data": {
      "text/plain": [
       "285.0     1\n",
       "346.0     1\n",
       "361.0     1\n",
       "395.0     1\n",
       "441.0     1\n",
       "         ..\n",
       "2216.0    1\n",
       "2346.0    1\n",
       "2560.0    1\n",
       "2639.0    1\n",
       "4856.0    1\n",
       "Name: 평균 체류시간, Length: 235, dtype: int64"
      ]
     },
     "execution_count": 37,
     "metadata": {},
     "output_type": "execute_result"
    }
   ],
   "source": [
    "count_by_hour = count_by_hour.sort_index()\n",
    "count_by_hour"
   ]
  },
  {
   "cell_type": "code",
   "execution_count": null,
   "id": "a784d96d",
   "metadata": {},
   "outputs": [],
   "source": [
    "import numpy as np\n",
    "\n",
    "def "
   ]
  }
 ],
 "metadata": {
  "kernelspec": {
   "display_name": "Python 3 (ipykernel)",
   "language": "python",
   "name": "python3"
  },
  "language_info": {
   "codemirror_mode": {
    "name": "ipython",
    "version": 3
   },
   "file_extension": ".py",
   "mimetype": "text/x-python",
   "name": "python",
   "nbconvert_exporter": "python",
   "pygments_lexer": "ipython3",
   "version": "3.12.4"
  }
 },
 "nbformat": 4,
 "nbformat_minor": 5
}
